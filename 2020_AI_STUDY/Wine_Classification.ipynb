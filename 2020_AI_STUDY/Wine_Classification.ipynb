{
  "nbformat": 4,
  "nbformat_minor": 0,
  "metadata": {
    "colab": {
      "name": "Wine Classification.ipynb",
      "provenance": [],
      "collapsed_sections": [],
      "authorship_tag": "ABX9TyMa3CozTWydd9WXpURyudQ7",
      "include_colab_link": true
    },
    "kernelspec": {
      "name": "python3",
      "display_name": "Python 3"
    },
    "accelerator": "GPU"
  },
  "cells": [
    {
      "cell_type": "markdown",
      "metadata": {
        "id": "view-in-github",
        "colab_type": "text"
      },
      "source": [
        "<a href=\"https://colab.research.google.com/github/ShineySun/BASIC_AI/blob/master/Wine_Classification.ipynb\" target=\"_parent\"><img src=\"https://colab.research.google.com/assets/colab-badge.svg\" alt=\"Open In Colab\"/></a>"
      ]
    },
    {
      "cell_type": "markdown",
      "metadata": {
        "id": "ykjVINzoaWj4",
        "colab_type": "text"
      },
      "source": [
        "\n",
        "- Project : Wine Classification\n",
        "- Framework : Pytorch\n",
        "- Date : 2020. 07. 20"
      ]
    },
    {
      "cell_type": "code",
      "metadata": {
        "id": "BNPAjVJTZ73o",
        "colab_type": "code",
        "colab": {}
      },
      "source": [
        "# import pytorch lib\n",
        "import torch\n",
        "from torch.autograd import Variable\n",
        "import torch.nn as nn\n",
        "import torch.nn.functional as F\n",
        "import torch.optim as optim\n",
        "from torch.utils.data import DataLoader, TensorDataset"
      ],
      "execution_count": 38,
      "outputs": []
    },
    {
      "cell_type": "code",
      "metadata": {
        "id": "d5iayxe2a69B",
        "colab_type": "code",
        "colab": {}
      },
      "source": [
        "# import scikit-learn lib\n",
        "from sklearn.datasets import load_wine\n",
        "from sklearn.model_selection import train_test_split\n",
        "\n",
        "# import pandas lib\n",
        "import pandas as pd"
      ],
      "execution_count": 39,
      "outputs": []
    },
    {
      "cell_type": "code",
      "metadata": {
        "id": "Pozg66d8bTUk",
        "colab_type": "code",
        "colab": {
          "base_uri": "https://localhost:8080/",
          "height": 238
        },
        "outputId": "c7cdc1c7-31a3-4339-aa5f-6384ad74147e"
      },
      "source": [
        "# load Data\n",
        "wine = load_wine()\n",
        "wine['feature_names']"
      ],
      "execution_count": 40,
      "outputs": [
        {
          "output_type": "execute_result",
          "data": {
            "text/plain": [
              "['alcohol',\n",
              " 'malic_acid',\n",
              " 'ash',\n",
              " 'alcalinity_of_ash',\n",
              " 'magnesium',\n",
              " 'total_phenols',\n",
              " 'flavanoids',\n",
              " 'nonflavanoid_phenols',\n",
              " 'proanthocyanins',\n",
              " 'color_intensity',\n",
              " 'hue',\n",
              " 'od280/od315_of_diluted_wines',\n",
              " 'proline']"
            ]
          },
          "metadata": {
            "tags": []
          },
          "execution_count": 40
        }
      ]
    },
    {
      "cell_type": "code",
      "metadata": {
        "id": "oQcxcGg9bcNJ",
        "colab_type": "code",
        "colab": {
          "base_uri": "https://localhost:8080/",
          "height": 419
        },
        "outputId": "832e8046-902f-4928-ddbf-55d9261363b8"
      },
      "source": [
        "# print wine data\n",
        "pd.DataFrame(wine.data, columns=wine.feature_names)"
      ],
      "execution_count": 41,
      "outputs": [
        {
          "output_type": "execute_result",
          "data": {
            "text/html": [
              "<div>\n",
              "<style scoped>\n",
              "    .dataframe tbody tr th:only-of-type {\n",
              "        vertical-align: middle;\n",
              "    }\n",
              "\n",
              "    .dataframe tbody tr th {\n",
              "        vertical-align: top;\n",
              "    }\n",
              "\n",
              "    .dataframe thead th {\n",
              "        text-align: right;\n",
              "    }\n",
              "</style>\n",
              "<table border=\"1\" class=\"dataframe\">\n",
              "  <thead>\n",
              "    <tr style=\"text-align: right;\">\n",
              "      <th></th>\n",
              "      <th>alcohol</th>\n",
              "      <th>malic_acid</th>\n",
              "      <th>ash</th>\n",
              "      <th>alcalinity_of_ash</th>\n",
              "      <th>magnesium</th>\n",
              "      <th>total_phenols</th>\n",
              "      <th>flavanoids</th>\n",
              "      <th>nonflavanoid_phenols</th>\n",
              "      <th>proanthocyanins</th>\n",
              "      <th>color_intensity</th>\n",
              "      <th>hue</th>\n",
              "      <th>od280/od315_of_diluted_wines</th>\n",
              "      <th>proline</th>\n",
              "    </tr>\n",
              "  </thead>\n",
              "  <tbody>\n",
              "    <tr>\n",
              "      <th>0</th>\n",
              "      <td>14.23</td>\n",
              "      <td>1.71</td>\n",
              "      <td>2.43</td>\n",
              "      <td>15.6</td>\n",
              "      <td>127.0</td>\n",
              "      <td>2.80</td>\n",
              "      <td>3.06</td>\n",
              "      <td>0.28</td>\n",
              "      <td>2.29</td>\n",
              "      <td>5.64</td>\n",
              "      <td>1.04</td>\n",
              "      <td>3.92</td>\n",
              "      <td>1065.0</td>\n",
              "    </tr>\n",
              "    <tr>\n",
              "      <th>1</th>\n",
              "      <td>13.20</td>\n",
              "      <td>1.78</td>\n",
              "      <td>2.14</td>\n",
              "      <td>11.2</td>\n",
              "      <td>100.0</td>\n",
              "      <td>2.65</td>\n",
              "      <td>2.76</td>\n",
              "      <td>0.26</td>\n",
              "      <td>1.28</td>\n",
              "      <td>4.38</td>\n",
              "      <td>1.05</td>\n",
              "      <td>3.40</td>\n",
              "      <td>1050.0</td>\n",
              "    </tr>\n",
              "    <tr>\n",
              "      <th>2</th>\n",
              "      <td>13.16</td>\n",
              "      <td>2.36</td>\n",
              "      <td>2.67</td>\n",
              "      <td>18.6</td>\n",
              "      <td>101.0</td>\n",
              "      <td>2.80</td>\n",
              "      <td>3.24</td>\n",
              "      <td>0.30</td>\n",
              "      <td>2.81</td>\n",
              "      <td>5.68</td>\n",
              "      <td>1.03</td>\n",
              "      <td>3.17</td>\n",
              "      <td>1185.0</td>\n",
              "    </tr>\n",
              "    <tr>\n",
              "      <th>3</th>\n",
              "      <td>14.37</td>\n",
              "      <td>1.95</td>\n",
              "      <td>2.50</td>\n",
              "      <td>16.8</td>\n",
              "      <td>113.0</td>\n",
              "      <td>3.85</td>\n",
              "      <td>3.49</td>\n",
              "      <td>0.24</td>\n",
              "      <td>2.18</td>\n",
              "      <td>7.80</td>\n",
              "      <td>0.86</td>\n",
              "      <td>3.45</td>\n",
              "      <td>1480.0</td>\n",
              "    </tr>\n",
              "    <tr>\n",
              "      <th>4</th>\n",
              "      <td>13.24</td>\n",
              "      <td>2.59</td>\n",
              "      <td>2.87</td>\n",
              "      <td>21.0</td>\n",
              "      <td>118.0</td>\n",
              "      <td>2.80</td>\n",
              "      <td>2.69</td>\n",
              "      <td>0.39</td>\n",
              "      <td>1.82</td>\n",
              "      <td>4.32</td>\n",
              "      <td>1.04</td>\n",
              "      <td>2.93</td>\n",
              "      <td>735.0</td>\n",
              "    </tr>\n",
              "    <tr>\n",
              "      <th>...</th>\n",
              "      <td>...</td>\n",
              "      <td>...</td>\n",
              "      <td>...</td>\n",
              "      <td>...</td>\n",
              "      <td>...</td>\n",
              "      <td>...</td>\n",
              "      <td>...</td>\n",
              "      <td>...</td>\n",
              "      <td>...</td>\n",
              "      <td>...</td>\n",
              "      <td>...</td>\n",
              "      <td>...</td>\n",
              "      <td>...</td>\n",
              "    </tr>\n",
              "    <tr>\n",
              "      <th>173</th>\n",
              "      <td>13.71</td>\n",
              "      <td>5.65</td>\n",
              "      <td>2.45</td>\n",
              "      <td>20.5</td>\n",
              "      <td>95.0</td>\n",
              "      <td>1.68</td>\n",
              "      <td>0.61</td>\n",
              "      <td>0.52</td>\n",
              "      <td>1.06</td>\n",
              "      <td>7.70</td>\n",
              "      <td>0.64</td>\n",
              "      <td>1.74</td>\n",
              "      <td>740.0</td>\n",
              "    </tr>\n",
              "    <tr>\n",
              "      <th>174</th>\n",
              "      <td>13.40</td>\n",
              "      <td>3.91</td>\n",
              "      <td>2.48</td>\n",
              "      <td>23.0</td>\n",
              "      <td>102.0</td>\n",
              "      <td>1.80</td>\n",
              "      <td>0.75</td>\n",
              "      <td>0.43</td>\n",
              "      <td>1.41</td>\n",
              "      <td>7.30</td>\n",
              "      <td>0.70</td>\n",
              "      <td>1.56</td>\n",
              "      <td>750.0</td>\n",
              "    </tr>\n",
              "    <tr>\n",
              "      <th>175</th>\n",
              "      <td>13.27</td>\n",
              "      <td>4.28</td>\n",
              "      <td>2.26</td>\n",
              "      <td>20.0</td>\n",
              "      <td>120.0</td>\n",
              "      <td>1.59</td>\n",
              "      <td>0.69</td>\n",
              "      <td>0.43</td>\n",
              "      <td>1.35</td>\n",
              "      <td>10.20</td>\n",
              "      <td>0.59</td>\n",
              "      <td>1.56</td>\n",
              "      <td>835.0</td>\n",
              "    </tr>\n",
              "    <tr>\n",
              "      <th>176</th>\n",
              "      <td>13.17</td>\n",
              "      <td>2.59</td>\n",
              "      <td>2.37</td>\n",
              "      <td>20.0</td>\n",
              "      <td>120.0</td>\n",
              "      <td>1.65</td>\n",
              "      <td>0.68</td>\n",
              "      <td>0.53</td>\n",
              "      <td>1.46</td>\n",
              "      <td>9.30</td>\n",
              "      <td>0.60</td>\n",
              "      <td>1.62</td>\n",
              "      <td>840.0</td>\n",
              "    </tr>\n",
              "    <tr>\n",
              "      <th>177</th>\n",
              "      <td>14.13</td>\n",
              "      <td>4.10</td>\n",
              "      <td>2.74</td>\n",
              "      <td>24.5</td>\n",
              "      <td>96.0</td>\n",
              "      <td>2.05</td>\n",
              "      <td>0.76</td>\n",
              "      <td>0.56</td>\n",
              "      <td>1.35</td>\n",
              "      <td>9.20</td>\n",
              "      <td>0.61</td>\n",
              "      <td>1.60</td>\n",
              "      <td>560.0</td>\n",
              "    </tr>\n",
              "  </tbody>\n",
              "</table>\n",
              "<p>178 rows × 13 columns</p>\n",
              "</div>"
            ],
            "text/plain": [
              "     alcohol  malic_acid   ash  ...   hue  od280/od315_of_diluted_wines  proline\n",
              "0      14.23        1.71  2.43  ...  1.04                          3.92   1065.0\n",
              "1      13.20        1.78  2.14  ...  1.05                          3.40   1050.0\n",
              "2      13.16        2.36  2.67  ...  1.03                          3.17   1185.0\n",
              "3      14.37        1.95  2.50  ...  0.86                          3.45   1480.0\n",
              "4      13.24        2.59  2.87  ...  1.04                          2.93    735.0\n",
              "..       ...         ...   ...  ...   ...                           ...      ...\n",
              "173    13.71        5.65  2.45  ...  0.64                          1.74    740.0\n",
              "174    13.40        3.91  2.48  ...  0.70                          1.56    750.0\n",
              "175    13.27        4.28  2.26  ...  0.59                          1.56    835.0\n",
              "176    13.17        2.59  2.37  ...  0.60                          1.62    840.0\n",
              "177    14.13        4.10  2.74  ...  0.61                          1.60    560.0\n",
              "\n",
              "[178 rows x 13 columns]"
            ]
          },
          "metadata": {
            "tags": []
          },
          "execution_count": 41
        }
      ]
    },
    {
      "cell_type": "code",
      "metadata": {
        "id": "9iwj4lupb57x",
        "colab_type": "code",
        "colab": {
          "base_uri": "https://localhost:8080/",
          "height": 419
        },
        "outputId": "01c22de6-52f3-4f67-c59f-b7d35c429e0c"
      },
      "source": [
        " df_label = pd.DataFrame(wine.target)\n",
        " df_label"
      ],
      "execution_count": 42,
      "outputs": [
        {
          "output_type": "execute_result",
          "data": {
            "text/html": [
              "<div>\n",
              "<style scoped>\n",
              "    .dataframe tbody tr th:only-of-type {\n",
              "        vertical-align: middle;\n",
              "    }\n",
              "\n",
              "    .dataframe tbody tr th {\n",
              "        vertical-align: top;\n",
              "    }\n",
              "\n",
              "    .dataframe thead th {\n",
              "        text-align: right;\n",
              "    }\n",
              "</style>\n",
              "<table border=\"1\" class=\"dataframe\">\n",
              "  <thead>\n",
              "    <tr style=\"text-align: right;\">\n",
              "      <th></th>\n",
              "      <th>0</th>\n",
              "    </tr>\n",
              "  </thead>\n",
              "  <tbody>\n",
              "    <tr>\n",
              "      <th>0</th>\n",
              "      <td>0</td>\n",
              "    </tr>\n",
              "    <tr>\n",
              "      <th>1</th>\n",
              "      <td>0</td>\n",
              "    </tr>\n",
              "    <tr>\n",
              "      <th>2</th>\n",
              "      <td>0</td>\n",
              "    </tr>\n",
              "    <tr>\n",
              "      <th>3</th>\n",
              "      <td>0</td>\n",
              "    </tr>\n",
              "    <tr>\n",
              "      <th>4</th>\n",
              "      <td>0</td>\n",
              "    </tr>\n",
              "    <tr>\n",
              "      <th>...</th>\n",
              "      <td>...</td>\n",
              "    </tr>\n",
              "    <tr>\n",
              "      <th>173</th>\n",
              "      <td>2</td>\n",
              "    </tr>\n",
              "    <tr>\n",
              "      <th>174</th>\n",
              "      <td>2</td>\n",
              "    </tr>\n",
              "    <tr>\n",
              "      <th>175</th>\n",
              "      <td>2</td>\n",
              "    </tr>\n",
              "    <tr>\n",
              "      <th>176</th>\n",
              "      <td>2</td>\n",
              "    </tr>\n",
              "    <tr>\n",
              "      <th>177</th>\n",
              "      <td>2</td>\n",
              "    </tr>\n",
              "  </tbody>\n",
              "</table>\n",
              "<p>178 rows × 1 columns</p>\n",
              "</div>"
            ],
            "text/plain": [
              "     0\n",
              "0    0\n",
              "1    0\n",
              "2    0\n",
              "3    0\n",
              "4    0\n",
              "..  ..\n",
              "173  2\n",
              "174  2\n",
              "175  2\n",
              "176  2\n",
              "177  2\n",
              "\n",
              "[178 rows x 1 columns]"
            ]
          },
          "metadata": {
            "tags": []
          },
          "execution_count": 42
        }
      ]
    },
    {
      "cell_type": "code",
      "metadata": {
        "id": "K1-9XHAjiM7h",
        "colab_type": "code",
        "colab": {
          "base_uri": "https://localhost:8080/",
          "height": 51
        },
        "outputId": "1821cf67-1625-4320-8aa5-4a454b7254de"
      },
      "source": [
        "data_len = len(wine.data)\n",
        "print(\"data length : \" , data_len)\n",
        "\n",
        "target_len = len(wine.target)\n",
        "print(\"target length : \", target_len)"
      ],
      "execution_count": 43,
      "outputs": [
        {
          "output_type": "stream",
          "text": [
            "data length :  178\n",
            "target length :  178\n"
          ],
          "name": "stdout"
        }
      ]
    },
    {
      "cell_type": "code",
      "metadata": {
        "id": "GL8cYTUEiZZB",
        "colab_type": "code",
        "colab": {
          "base_uri": "https://localhost:8080/",
          "height": 51
        },
        "outputId": "fdc9b9d9-1c3f-4eb0-d2d8-d7babdfbff01"
      },
      "source": [
        "# data to array\n",
        "wine_data = wine.data[:130]\n",
        "# data to array\n",
        "wine_target = wine.target[:130]\n",
        "\n",
        "print(\"wine_data type : \", type(wine_data))\n",
        "print(\"wine_target type : \", type(wine_target))"
      ],
      "execution_count": 44,
      "outputs": [
        {
          "output_type": "stream",
          "text": [
            "wine_data type :  <class 'numpy.ndarray'>\n",
            "wine_target type :  <class 'numpy.ndarray'>\n"
          ],
          "name": "stdout"
        }
      ]
    },
    {
      "cell_type": "code",
      "metadata": {
        "id": "wEjgpL3jiz3m",
        "colab_type": "code",
        "colab": {
          "base_uri": "https://localhost:8080/",
          "height": 85
        },
        "outputId": "63503c9a-74e4-4ac8-f79e-3a24b83a7d20"
      },
      "source": [
        "# split datasets into training and test data\n",
        "train_x, test_x, train_y, test_y = train_test_split(wine_data, wine_target, test_size = 0.2)\n",
        "\n",
        "print(\"len(train_x) : \", len(train_x) , \"   |   type(train_x) : {}\".format(type(train_x)))\n",
        "print(\"len(train_y) : \", len(train_y) , \"   |   type(train_y) : {}\".format(type(train_y)))\n",
        "print(\"len(test_x) : \", len(test_x) , \"     |   type(test_x) : {}\".format(type(test_x)))\n",
        "print(\"len(test_y) : \", len(test_y) , \"     |   type(test_y) : {}\".format(type(test_y)))"
      ],
      "execution_count": 45,
      "outputs": [
        {
          "output_type": "stream",
          "text": [
            "len(train_x) :  104    |   type(train_x) : <class 'numpy.ndarray'>\n",
            "len(train_y) :  104    |   type(train_y) : <class 'numpy.ndarray'>\n",
            "len(test_x) :  26      |   type(test_x) : <class 'numpy.ndarray'>\n",
            "len(test_y) :  26      |   type(test_y) : <class 'numpy.ndarray'>\n"
          ],
          "name": "stdout"
        }
      ]
    },
    {
      "cell_type": "code",
      "metadata": {
        "id": "B-zb5WPBkwnH",
        "colab_type": "code",
        "colab": {
          "base_uri": "https://localhost:8080/",
          "height": 85
        },
        "outputId": "cbdc402a-af8d-4b05-ff37-8dd3a1c7d3d8"
      },
      "source": [
        "# convert train data to tensor\n",
        "train_x = torch.from_numpy(train_x).float()\n",
        "train_y = torch.from_numpy(train_y).long()\n",
        "\n",
        "# conver test data to tensor\n",
        "test_x = torch.from_numpy(test_x).float()\n",
        "test_y = torch.from_numpy(test_y).long()\n",
        "\n",
        "print(\"len(train_x) : \", len(train_x) , \"   |   type(train_x) : {}\".format(type(train_x)))\n",
        "print(\"len(train_y) : \", len(train_y) , \"   |   type(train_y) : {}\".format(type(train_y)))\n",
        "print(\"len(test_x) : \", len(test_x) , \"     |   type(test_x) : {}\".format(type(test_x)))\n",
        "print(\"len(test_y) : \", len(test_y) , \"     |   type(test_y) : {}\".format(type(test_y)))"
      ],
      "execution_count": 46,
      "outputs": [
        {
          "output_type": "stream",
          "text": [
            "len(train_x) :  104    |   type(train_x) : <class 'torch.Tensor'>\n",
            "len(train_y) :  104    |   type(train_y) : <class 'torch.Tensor'>\n",
            "len(test_x) :  26      |   type(test_x) : <class 'torch.Tensor'>\n",
            "len(test_y) :  26      |   type(test_y) : <class 'torch.Tensor'>\n"
          ],
          "name": "stdout"
        }
      ]
    },
    {
      "cell_type": "code",
      "metadata": {
        "id": "YDDQy1Oumzye",
        "colab_type": "code",
        "colab": {
          "base_uri": "https://localhost:8080/",
          "height": 119
        },
        "outputId": "2b358515-d99d-4c95-85da-c6c6a9eee2fd"
      },
      "source": [
        "# Combine the tensor of data and target variable\n",
        "train = TensorDataset(train_x, train_y)\n",
        "\n",
        "# Check the contents of the tensor's first data\n",
        "print(\"train[0] : \", train[0])\n",
        "print(\"train[1] : \", train[1])\n",
        "\n",
        "# split into mini batch (16)\n",
        "train_loader = DataLoader(train, batch_size = 16, shuffle=True)"
      ],
      "execution_count": 47,
      "outputs": [
        {
          "output_type": "stream",
          "text": [
            "train[0] :  (tensor([1.3770e+01, 1.9000e+00, 2.6800e+00, 1.7100e+01, 1.1500e+02, 3.0000e+00,\n",
            "        2.7900e+00, 3.9000e-01, 1.6800e+00, 6.3000e+00, 1.1300e+00, 2.9300e+00,\n",
            "        1.3750e+03]), tensor(0))\n",
            "train[1] :  (tensor([1.3580e+01, 1.6600e+00, 2.3600e+00, 1.9100e+01, 1.0600e+02, 2.8600e+00,\n",
            "        3.1900e+00, 2.2000e-01, 1.9500e+00, 6.9000e+00, 1.0900e+00, 2.8800e+00,\n",
            "        1.5150e+03]), tensor(0))\n"
          ],
          "name": "stdout"
        }
      ]
    },
    {
      "cell_type": "code",
      "metadata": {
        "id": "X678WKoUnq9l",
        "colab_type": "code",
        "colab": {}
      },
      "source": [
        "# Construct neural network\n",
        "class Net(nn.Module):\n",
        "  def __init__(self):\n",
        "    super(Net, self).__init__()\n",
        "\n",
        "    # fully connected layer 1\n",
        "    self.fc1 = nn.Linear(13,96)\n",
        "\n",
        "    # fully connected layer 2\n",
        "    self.fc2 = nn.Linear(96,2)\n",
        "  \n",
        "  def forward(self, x):\n",
        "    #print(\"x.shape : \", x.shape)\n",
        "    x = self.fc1(x)\n",
        "    x = F.relu(x)\n",
        "\n",
        "    x = self.fc2(x)\n",
        "\n",
        "    return F.log_softmax(x)\n",
        "    "
      ],
      "execution_count": 48,
      "outputs": []
    },
    {
      "cell_type": "code",
      "metadata": {
        "id": "hqLOrjPbqP9f",
        "colab_type": "code",
        "colab": {
          "base_uri": "https://localhost:8080/",
          "height": 68
        },
        "outputId": "f066685f-3c0e-43d7-cfb6-921209cc1d14"
      },
      "source": [
        "# check gpu setting\n",
        "print(\"cuda is available : \", torch.cuda.is_available())\n",
        "print(\"current device : \", torch.cuda.current_device())\n",
        "print(\"torch.cuda.get_device_name(0) : \",torch.cuda.get_device_name(0))"
      ],
      "execution_count": 49,
      "outputs": [
        {
          "output_type": "stream",
          "text": [
            "cuda is available :  True\n",
            "current device :  0\n",
            "torch.cuda.get_device_name(0) :  Tesla K80\n"
          ],
          "name": "stdout"
        }
      ]
    },
    {
      "cell_type": "code",
      "metadata": {
        "id": "HzwrIOLUqmjF",
        "colab_type": "code",
        "colab": {}
      },
      "source": [
        "# create Net\n",
        "model = Net()\n",
        "\n",
        "if torch.cuda.is_available() is True:\n",
        "  model = model.cuda()"
      ],
      "execution_count": 50,
      "outputs": []
    },
    {
      "cell_type": "code",
      "metadata": {
        "id": "7j0vjbXhrzAW",
        "colab_type": "code",
        "colab": {
          "base_uri": "https://localhost:8080/",
          "height": 136
        },
        "outputId": "10cd341c-50f4-4088-945d-43b229a5e80e"
      },
      "source": [
        "# create loss function object\n",
        "criterion = nn.CrossEntropyLoss()\n",
        "\n",
        "# create optimizer\n",
        "optimizer = optim.SGD(model.parameters(), lr=0.01)\n",
        "\n",
        "# nEpoch\n",
        "nEpoch = 300\n",
        "\n",
        "# training start\n",
        "for epoch in range(nEpoch):\n",
        "  total_loss = 0\n",
        "\n",
        "  for train_x, train_y in train_loader:\n",
        "    train_x, train_y = Variable(train_x), Variable(train_y)\n",
        "\n",
        "    if torch.cuda.is_available() is True :\n",
        "      train_x = train_x.cuda()\n",
        "      train_y = train_y.cuda()\n",
        "    \n",
        "    # init GD\n",
        "    optimizer.zero_grad()\n",
        "\n",
        "    # calc forward\n",
        "    output = model(train_x)\n",
        "\n",
        "    # print(\"output : \", output)\n",
        "    # print(\"train_y : \", train_y)\n",
        "\n",
        "    # print(\"output.shape : \", output.shape)\n",
        "    # print(\"train_y.shape : \", train_y.shape)\n",
        "\n",
        "    # calc loss\n",
        "    loss = criterion(output, train_y)\n",
        "\n",
        "    # backward\n",
        "    loss.backward()\n",
        "\n",
        "    # update weight\n",
        "    optimizer.step()\n",
        "\n",
        "    # calc total loss\n",
        "    total_loss += loss.data\n",
        "  if (epoch+1)%50 == 0:\n",
        "    print(\"{}'s total loss : {}\".format(epoch+1, total_loss))\n",
        "\n",
        "\n"
      ],
      "execution_count": 51,
      "outputs": [
        {
          "output_type": "stream",
          "text": [
            "/usr/local/lib/python3.6/dist-packages/ipykernel_launcher.py:19: UserWarning: Implicit dimension choice for log_softmax has been deprecated. Change the call to include dim=X as an argument.\n"
          ],
          "name": "stderr"
        },
        {
          "output_type": "stream",
          "text": [
            "50's total loss : 4.812386512756348\n",
            "100's total loss : 4.785183429718018\n",
            "150's total loss : 4.8272294998168945\n",
            "200's total loss : 4.798107624053955\n",
            "250's total loss : 4.7551960945129395\n",
            "300's total loss : 4.812600135803223\n"
          ],
          "name": "stdout"
        }
      ]
    },
    {
      "cell_type": "code",
      "metadata": {
        "id": "-mUlwQxAtgs2",
        "colab_type": "code",
        "colab": {
          "base_uri": "https://localhost:8080/",
          "height": 51
        },
        "outputId": "28caa562-64cb-4e96-9a48-2fee973e58d2"
      },
      "source": [
        "# test section\n",
        "test_x, test_y = Variable(test_x), Variable(test_y)\n",
        "\n",
        "if torch.cuda.is_available() is True :\n",
        "      test_x = test_x.cuda()\n",
        "      test_y = test_y.cuda()\n",
        "\n",
        "result = torch.max(model(test_x).data, 1)[1]\n",
        "\n",
        "# calc accuracy\n",
        "accuracy = sum(test_y.detach().cpu().data.numpy() == result.detach().cpu().numpy()) / len(test_y.cpu().data.numpy())\n",
        "\n",
        "print(\"Classification Accuracy : \", accuracy)"
      ],
      "execution_count": 63,
      "outputs": [
        {
          "output_type": "stream",
          "text": [
            "Classification Accuracy :  0.5\n"
          ],
          "name": "stdout"
        },
        {
          "output_type": "stream",
          "text": [
            "/usr/local/lib/python3.6/dist-packages/ipykernel_launcher.py:19: UserWarning: Implicit dimension choice for log_softmax has been deprecated. Change the call to include dim=X as an argument.\n"
          ],
          "name": "stderr"
        }
      ]
    },
    {
      "cell_type": "code",
      "metadata": {
        "id": "QEI4X5KSupkk",
        "colab_type": "code",
        "colab": {}
      },
      "source": [
        ""
      ],
      "execution_count": null,
      "outputs": []
    }
  ]
}