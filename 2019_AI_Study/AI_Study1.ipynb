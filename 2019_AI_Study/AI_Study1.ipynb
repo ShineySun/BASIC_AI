{
  "nbformat": 4,
  "nbformat_minor": 0,
  "metadata": {
    "colab": {
      "name": "AI_Study1.ipynb",
      "provenance": [],
      "collapsed_sections": [],
      "include_colab_link": true
    },
    "kernelspec": {
      "name": "python3",
      "display_name": "Python 3"
    },
    "accelerator": "GPU"
  },
  "cells": [
    {
      "cell_type": "markdown",
      "metadata": {
        "id": "view-in-github",
        "colab_type": "text"
      },
      "source": [
        "<a href=\"https://colab.research.google.com/github/ShineySun/BASIC_AI/blob/master/AI_Study1.ipynb\" target=\"_parent\"><img src=\"https://colab.research.google.com/assets/colab-badge.svg\" alt=\"Open In Colab\"/></a>"
      ]
    },
    {
      "cell_type": "code",
      "metadata": {
        "id": "1yWk1OiV6Eoi",
        "colab_type": "code",
        "colab": {}
      },
      "source": [
        "# 관련 라이브러리\n",
        "import numpy as np\n",
        "%matplotlib inline\n",
        "import matplotlib\n",
        "import matplotlib.pyplot as plt"
      ],
      "execution_count": 0,
      "outputs": []
    },
    {
      "cell_type": "markdown",
      "metadata": {
        "id": "NR24OxQIx_SO",
        "colab_type": "text"
      },
      "source": [
        "# Data 생성 & 시각화\n",
        "### 변수 X는 0~2 사이의 균일한 확률분포의 실수 난수\n",
        "### 변수 y는 기울기가 y 이며 절편이 4인 선형 그래프에 정규 분포된 노이즈(noise)를 추가"
      ]
    },
    {
      "cell_type": "code",
      "metadata": {
        "id": "mYshox2ACECE",
        "colab_type": "code",
        "outputId": "70a347e3-26be-475f-ee6d-e3b6409417eb",
        "colab": {
          "base_uri": "https://localhost:8080/",
          "height": 291
        }
      },
      "source": [
        "# np.random.rand(100,1) : 0 ~ 1사이에서 균일한 확률 분포로 실수 난수 생성(100개의 데이터, 1차원)\n",
        "X = 2*np.random.rand(100,1)\n",
        "# np.random.randn(100,1) : 기댓값이 0이고 표준편차가 1인 가우시안 표준 정규 분포를 따르는 난수를 생성\n",
        "y = 4 + 3*X + np.random.randn(100,1)\n",
        "\n",
        "# Blue Color 로 X, y 데이터 출력\n",
        "plt.plot(X,y,\"b.\")\n",
        "plt.xlabel(\"$x_1$\",fontsize = 18)\n",
        "plt.ylabel(\"$y_1$\",rotation = 0, fontsize = 18)\n",
        "# plt.axis([x_start, x_end, y_start, y_end])\n",
        "plt.axis([0,2,0,15])\n",
        "plt.show()\n",
        "\n",
        "# print(X)"
      ],
      "execution_count": 0,
      "outputs": [
        {
          "output_type": "display_data",
          "data": {
            "image/png": "[encoded data removed]",
            "text/plain": [
              "<Figure size 432x288 with 1 Axes>"
            ]
          },
          "metadata": {
            "tags": []
          }
        }
      ]
    },
    {
      "cell_type": "markdown",
      "metadata": {
        "id": "9h35JDo_yTSf",
        "colab_type": "text"
      },
      "source": [
        "# 정규 방정식을 사용한 선형 회귀 접근\n",
        "## 정규 방정식을 사용한 theta_best 계산\n",
        "### theta_best의 index 0 은 y 절편을 의미, index 1 은 기울기를 의미\n"
      ]
    },
    {
      "cell_type": "code",
      "metadata": {
        "id": "YrBb0K1CCOEZ",
        "colab_type": "code",
        "outputId": "3f440b67-539f-4f5a-88dc-5794c443219a",
        "colab": {
          "base_uri": "https://localhost:8080/",
          "height": 50
        }
      },
      "source": [
        "### 정규 방정식을 사용한 선형회귀 접근 ###\n",
        "\n",
        "# np.c_[a,b] : 두 개의 1차원 배열을 칼럼으로 세로로 붙여서 2차원 배열 만들기\n",
        "X_b = np.c_[np.ones((100,1)),X]\n",
        "#print(X_b)\n",
        "\n",
        "## np.linalg_inv : 선형대수 역행렬\n",
        "# theta best --> 정규 방정식으로 계산한 theta 값\n",
        "theta_best = np.linalg.inv(X_b.T.dot(X_b)).dot(X_b.T).dot(y)\n",
        "\n",
        "# theta[0] : y 절편 , theta[1] : 기울기\n",
        "print(theta_best)"
      ],
      "execution_count": 0,
      "outputs": [
        {
          "output_type": "stream",
          "text": [
            "[[4.62091109]\n",
            " [2.57516025]]\n"
          ],
          "name": "stdout"
        }
      ]
    },
    {
      "cell_type": "markdown",
      "metadata": {
        "id": "RyvtStCt0xy9",
        "colab_type": "text"
      },
      "source": [
        "## 정규 방정식을 이용한 theta_best 의 값으로 예측 모델 시각화"
      ]
    },
    {
      "cell_type": "code",
      "metadata": {
        "id": "sJn_Jm4VExYm",
        "colab_type": "code",
        "outputId": "3f7b9495-4b13-42b4-eb27-d5f1090ba55b",
        "colab": {
          "base_uri": "https://localhost:8080/",
          "height": 101
        }
      },
      "source": [
        "X_new = np.array([[0],[2]])\n",
        "# bias 가 포함된 X 행렬\n",
        "X_new_b = np.c_[np.ones((2,1)),X_new]\n",
        "y_predict = X_new_b.dot(theta_best)\n",
        "\n",
        "print(\"X_new_b : \")\n",
        "print(X_new_b)\n",
        "print(y_predict)"
      ],
      "execution_count": 0,
      "outputs": [
        {
          "output_type": "stream",
          "text": [
            "X_new_b : \n",
            "[[1. 0.]\n",
            " [1. 2.]]\n",
            "[[4.62091109]\n",
            " [9.77123159]]\n"
          ],
          "name": "stdout"
        }
      ]
    },
    {
      "cell_type": "code",
      "metadata": {
        "id": "Ed8OHweNLUMY",
        "colab_type": "code",
        "outputId": "38c9be5e-1744-4254-b4c3-395e11d0b015",
        "colab": {
          "base_uri": "https://localhost:8080/",
          "height": 291
        }
      },
      "source": [
        "plt.plot(X_new,y_predict,\"r-\",linewidth = 2, label=\"prediction\")\n",
        "plt.plot(X,y,\"b.\")\n",
        "plt.xlabel(\"$x_1$\",fontsize = 18)\n",
        "plt.ylabel(\"$y_1$\",rotation = 0, fontsize = 18)\n",
        "# plt.legend : 추가적인 입력변수를 출력하는 요소 설정\n",
        "plt.legend(loc=\"upper left\", fontsize = 14)\n",
        "plt.axis([0,2,0,15])\n",
        "plt.show()"
      ],
      "execution_count": 0,
      "outputs": [
        {
          "output_type": "display_data",
          "data": {
            "image/png": "[encoded data removed]",
            "text/plain": [
              "<Figure size 432x288 with 1 Axes>"
            ]
          },
          "metadata": {
            "tags": []
          }
        }
      ]
    },
    {
      "cell_type": "markdown",
      "metadata": {
        "id": "gM2fsg-d1GJI",
        "colab_type": "text"
      },
      "source": [
        "# Package를 이용한 선형 회귀 모델 생성\n",
        "## 정규 방정식의 값과 거의 비슷"
      ]
    },
    {
      "cell_type": "code",
      "metadata": {
        "id": "sPVpG4cxNuxv",
        "colab_type": "code",
        "outputId": "f6ec5aa2-159a-492f-e012-4f3038c924b0",
        "colab": {
          "base_uri": "https://localhost:8080/",
          "height": 34
        }
      },
      "source": [
        "from sklearn.linear_model import LinearRegression\n",
        "\n",
        "# LinearRegression 클래스 객체 생성\n",
        "lin_reg = LinearRegression()\n",
        "# 모형 추정. 상수항 결합을 자동적으로 해줌.\n",
        "lin_reg.fit(X,y)\n",
        "\n",
        "print(lin_reg.coef_, lin_reg.intercept_)"
      ],
      "execution_count": 0,
      "outputs": [
        {
          "output_type": "stream",
          "text": [
            "[[2.57516025]] [4.62091109]\n"
          ],
          "name": "stdout"
        }
      ]
    },
    {
      "cell_type": "code",
      "metadata": {
        "id": "EoI-bB4QPQ9d",
        "colab_type": "code",
        "outputId": "e1556596-9746-4ddc-b773-5ae3abd2ad2d",
        "colab": {
          "base_uri": "https://localhost:8080/",
          "height": 50
        }
      },
      "source": [
        "#print(X_new[0])\n",
        "lin_reg.predict(X_new)"
      ],
      "execution_count": 0,
      "outputs": [
        {
          "output_type": "execute_result",
          "data": {
            "text/plain": [
              "array([[4.62091109],\n",
              "       [9.77123159]])"
            ]
          },
          "metadata": {
            "tags": []
          },
          "execution_count": 7
        }
      ]
    },
    {
      "cell_type": "code",
      "metadata": {
        "id": "aFuT3BpMgHa_",
        "colab_type": "code",
        "outputId": "c8ed417f-e6ac-49ff-873d-75b48b7b560c",
        "colab": {
          "base_uri": "https://localhost:8080/",
          "height": 67
        }
      },
      "source": [
        "# np.linalg.lstsq : Compute the Least-squares solution(최소제곱합)\n",
        "# return Least-squares solution, Sums of residuals(잔차), Rank of matrix a, Singular values of a\n",
        "# 행렬이 정사각행렬이 아닐때 역행렬을 구하기 위함 -> lstsq, pinv\n",
        "theta_best_svd, residuals, rank, s = np.linalg.lstsq(X_b,y,rcond = 1e-6)\n",
        "\n",
        "print(\"< theta_best_svd >\")\n",
        "print(theta_best_svd)"
      ],
      "execution_count": 0,
      "outputs": [
        {
          "output_type": "stream",
          "text": [
            "< theta_best_svd >\n",
            "[[4.62091109]\n",
            " [2.57516025]]\n"
          ],
          "name": "stdout"
        }
      ]
    },
    {
      "cell_type": "code",
      "metadata": {
        "id": "evSCBu_4iCVJ",
        "colab_type": "code",
        "outputId": "ef169664-b7ff-439f-b927-5b0f4d866cf0",
        "colab": {
          "base_uri": "https://localhost:8080/",
          "height": 50
        }
      },
      "source": [
        "# X_b : 100 x 2,  y : 100 x 1\n",
        "np.linalg.pinv(X_b).dot(y)"
      ],
      "execution_count": 0,
      "outputs": [
        {
          "output_type": "execute_result",
          "data": {
            "text/plain": [
              "array([[4.62091109],\n",
              "       [2.57516025]])"
            ]
          },
          "metadata": {
            "tags": []
          },
          "execution_count": 9
        }
      ]
    },
    {
      "cell_type": "markdown",
      "metadata": {
        "id": "K3b45Jqi172l",
        "colab_type": "text"
      },
      "source": [
        "# 경사 하강법을 사용한 선형 회귀 접근 & 시각화\n"
      ]
    },
    {
      "cell_type": "code",
      "metadata": {
        "id": "-bz366I9lbOp",
        "colab_type": "code",
        "outputId": "45cab28a-e3b8-44f3-d5eb-f2233eb05a87",
        "colab": {
          "base_uri": "https://localhost:8080/",
          "height": 50
        }
      },
      "source": [
        "# learning rate\n",
        "eta = 0.1\n",
        "# 반복 횟수\n",
        "n_iterations = 1000\n",
        "# 데이터 개수\n",
        "m = 100\n",
        "theta = np.random.randn(2,1)\n",
        "\n",
        "for iteration in range(n_iterations):\n",
        "  gradients = 2/m*X_b.T.dot(X_b.dot(theta)-y)\n",
        "  theta = theta - eta*gradients\n",
        "  \n",
        "# eta >= 0.5 이상이면 발산 현상 발생..\n",
        "print(theta)"
      ],
      "execution_count": 0,
      "outputs": [
        {
          "output_type": "stream",
          "text": [
            "[[4.62091109]\n",
            " [2.57516025]]\n"
          ],
          "name": "stdout"
        }
      ]
    },
    {
      "cell_type": "code",
      "metadata": {
        "id": "wsFA4g6pnVUX",
        "colab_type": "code",
        "outputId": "ed622ba5-3fd6-401c-d48c-8d5a89c824f9",
        "colab": {
          "base_uri": "https://localhost:8080/",
          "height": 50
        }
      },
      "source": [
        "X_new_b.dot(theta)"
      ],
      "execution_count": 0,
      "outputs": [
        {
          "output_type": "execute_result",
          "data": {
            "text/plain": [
              "array([[4.62091109],\n",
              "       [9.77123159]])"
            ]
          },
          "metadata": {
            "tags": []
          },
          "execution_count": 11
        }
      ]
    },
    {
      "cell_type": "markdown",
      "metadata": {
        "id": "vQWBI9xW68Aj",
        "colab_type": "text"
      },
      "source": [
        "# Batch Gradient Descent\n",
        "### 모든 데이터에 대하연 각각 Loss Function 을 구하고, 그의 기댓값을 오차로 한다. 그 오차를 최소화시키는 방향으로 weight들을 업데이트한다.\n",
        "### 아래의 총 3개의 subplot이 있는데 각각 Learning Rate 는 0.02, 0.1, 0.5 로 나누어져 있다.\n",
        "### Learning rate 0.02 의 경우, LR 이 너무 낮은 경우이며, 1000번의 iteration 동안 적절한 값에 수렴하지 못하는 경우가 발생한다.\n",
        "### Learning rate 0.1 의 경우, LR 이 적절한 경우로 1000번의 iteration 동안 적절한 값에 수렴한다.\n",
        "### Learning rate 0.5 의 경우, LR이 너무 큰 경우로 적절한 Gradient를 찾기 못하고 발산하는 경우이다."
      ]
    },
    {
      "cell_type": "code",
      "metadata": {
        "id": "0rQTO3Y5nfZA",
        "colab_type": "code",
        "outputId": "75bbcd8f-fde9-497d-cd23-459fa60390a9",
        "colab": {
          "base_uri": "https://localhost:8080/",
          "height": 306
        }
      },
      "source": [
        "theta_path_bgd = []\n",
        "\n",
        "def plot_gradient_descent(theta,eta,theta_path=None):\n",
        "  m = len(X_b)\n",
        "  plt.plot(X,y,\"b.\")\n",
        "  n_iterations = 1000\n",
        "  \n",
        "  for iteration in range(n_iterations):\n",
        "    if iteration < 10:\n",
        "      y_predict = X_new_b.dot(theta)\n",
        "      style = \"b-\" if iteration > 0 else \"r--\"\n",
        "      plt.plot(X_new,y_predict,style)\n",
        "  \n",
        "    gradients = 2/m*X_b.T.dot(X_b.dot(theta)-y)\n",
        "    theta = theta - eta*gradients\n",
        "  \n",
        "    if theta_path is not None:\n",
        "      theta_path.append(theta)\n",
        "    \n",
        "  plt.xlabel(\"$x_1$\",fontsize = 18)\n",
        "  plt.axis([0,2,0,15])\n",
        "  plt.title(r\"$eta = {}$\".format(eta),fontsize = 16)\n",
        "  \n",
        "np.random.seed(42)\n",
        "theta = np.random.randn(2,1)\n",
        "plt.figure(figsize = (10,4))\n",
        "plt.subplot(131); plot_gradient_descent(theta,eta = 0.02)\n",
        "plt.ylabel(\"$y$\",rotation=0,fontsize = 18)\n",
        "plt.subplot(132); plot_gradient_descent(theta,eta = 0.1, theta_path = theta_path_bgd)\n",
        "plt.subplot(133); plot_gradient_descent(theta,eta = 0.5)\n",
        "plt.show()\n",
        "  "
      ],
      "execution_count": 0,
      "outputs": [
        {
          "output_type": "display_data",
          "data": {
            "image/png": "[encoded data removed]",
            "text/plain": [
              "<Figure size 720x288 with 3 Axes>"
            ]
          },
          "metadata": {
            "tags": []
          }
        }
      ]
    },
    {
      "cell_type": "markdown",
      "metadata": {
        "id": "YuZVKEKB8ZUd",
        "colab_type": "text"
      },
      "source": [
        "# 스토캐스틱 경사 하강법을 사용한 선형회귀 접근\n",
        "### BGD 같은 경우 데이터가 무수히 많을 경우 전체 데이터를 고려하므로 연산에 대한 Cost가 매우 커지게 된다. 이러한 단점을 극복하기 위해서 나온 방법이 Stochastic Gradient Descent(SGD)이다.\n",
        "### SGD 의 경우 BGD와 달리 1개의 데이터를 랜덤으로 고려하여 각 데이터에 대해 Loss function 을 계산하고, 그 함수를 최소화하는 방향으로 W를 업데이트한다.\n"
      ]
    },
    {
      "cell_type": "code",
      "metadata": {
        "id": "tVk5MwFbtf8c",
        "colab_type": "code",
        "outputId": "a5926e3b-dacb-40f8-f75f-5e1d0ed1be85",
        "colab": {
          "base_uri": "https://localhost:8080/",
          "height": 291
        }
      },
      "source": [
        "theta_path_sgd = []\n",
        "m = len(X_b)\n",
        "np.random.seed(42)\n",
        "n_epochs = 50\n",
        "t0,t1 = 5, 50\n",
        "\n",
        "def learning_schedule(t):\n",
        "  return t0/(t+t1)\n",
        "\n",
        "theta = np.random.randn(2,1)\n",
        "\n",
        "for epoch in range(n_epochs):\n",
        "  for i in range(m):\n",
        "    if epoch == 0 and i < 20:\n",
        "      y_predict = X_new_b.dot(theta)\n",
        "      style = \"b-\" if i > 0 else \"r--\"\n",
        "      plt.plot(X_new,y_predict,style)\n",
        "    random_index = np.random.randint(m)\n",
        "    xi = X_b[random_index:random_index+1]\n",
        "    yi = y[random_index:random_index+1]\n",
        "    gradients = 2*xi.T.dot(xi.dot(theta)-yi)\n",
        "    eta = learning_schedule(epoch*m + i)\n",
        "    theta = theta - eta*gradients\n",
        "    theta_path_sgd.append(theta)\n",
        "    \n",
        "plt.plot(X,y,\"b.\")\n",
        "plt.xlabel(\"$x_1$\",fontsize = 18)\n",
        "plt.ylabel(\"$y$\", rotation = 0, fontsize = 18)\n",
        "plt.axis([0,2,0,15])\n",
        "plt.show()\n"
      ],
      "execution_count": 0,
      "outputs": [
        {
          "output_type": "display_data",
          "data": {
            "image/png": "[encoded data removed]",
            "text/plain": [
              "<Figure size 432x288 with 1 Axes>"
            ]
          },
          "metadata": {
            "tags": []
          }
        }
      ]
    },
    {
      "cell_type": "code",
      "metadata": {
        "id": "X7pilDK92W8D",
        "colab_type": "code",
        "outputId": "dadfb34d-02fe-4c57-a004-930686925bb0",
        "colab": {
          "base_uri": "https://localhost:8080/",
          "height": 50
        }
      },
      "source": [
        "print(theta)"
      ],
      "execution_count": 0,
      "outputs": [
        {
          "output_type": "stream",
          "text": [
            "[[4.61758796]\n",
            " [2.51807051]]\n"
          ],
          "name": "stdout"
        }
      ]
    },
    {
      "cell_type": "code",
      "metadata": {
        "id": "RqMHR2R22ip5",
        "colab_type": "code",
        "outputId": "27839544-5333-4605-ff42-9f44a7b488fd",
        "colab": {
          "base_uri": "https://localhost:8080/",
          "height": 34
        }
      },
      "source": [
        "from sklearn.linear_model import SGDRegressor\n",
        "sgd_reg = SGDRegressor(max_iter = 50, penalty = None, eta0 = 0.1, random_state = 42)\n",
        "\n",
        "sgd_reg.fit(X,y.ravel())\n",
        "\n",
        "print(sgd_reg.intercept_, sgd_reg.coef_)"
      ],
      "execution_count": 0,
      "outputs": [
        {
          "output_type": "stream",
          "text": [
            "[4.68600374] [2.67736371]\n"
          ],
          "name": "stdout"
        }
      ]
    },
    {
      "cell_type": "markdown",
      "metadata": {
        "id": "nFMFyTOs5xXf",
        "colab_type": "text"
      },
      "source": [
        "# 미니배치 경사 하강법을 사용한 선형회귀 접근\n",
        "### SGD의 단점인 느린 수렴속도와 수렴하지 못하고 이상한 부분에서 왔다갔다 하는 현상을 보완하기 위해 Mini-batch Gradient Descent(MGD)를 사용한다.\n",
        "### MGD는 예를 들면 10000개의 데이터가 존재하면 100개씩 미니 배치를 만들어 각 100개씩 BGD 방식으로 W를 갱신한다.\n",
        "### 현재 우리 데이터에서는 100개의 데이터를 20개씩 5개의 미니 배치를 만들어 theta를 계산한다."
      ]
    },
    {
      "cell_type": "code",
      "metadata": {
        "id": "wZArXeIi5wms",
        "colab_type": "code",
        "outputId": "b20aa19f-1bbc-4a0b-9f08-703649af8d1a",
        "colab": {
          "base_uri": "https://localhost:8080/",
          "height": 50
        }
      },
      "source": [
        "theta_path_mgd = []\n",
        "n_iterations = 50\n",
        "minibatch_size = 20\n",
        "np.random.seed(42)\n",
        "theta = np.random.randn(2,1)\n",
        "t0,t1 = 200,1000\n",
        "\n",
        "def learning_schedule(t):\n",
        "  return t0/(t+t1)\n",
        "\n",
        "t = 0\n",
        "for epoch in range(n_iterations):\n",
        "  shuffled_indices = np.random.permutation(m)\n",
        "  X_b_shuffled = X_b[shuffled_indices]\n",
        "  y_shuffled = y[shuffled_indices]\n",
        "  \n",
        "  for i in range(0,m,minibatch_size):\n",
        "    t += 1\n",
        "    xi = X_b_shuffled[i:i+minibatch_size]\n",
        "    yi = y_shuffled[i:i+minibatch_size]\n",
        "    gradients = 2/minibatch_size*xi.T.dot(xi.dot(theta)-yi)\n",
        "    eta = learning_schedule(t)\n",
        "    theta = theta - eta*gradients\n",
        "    theta_path_mgd.append(theta)\n",
        "    \n",
        "print(theta)\n",
        "  \n"
      ],
      "execution_count": 0,
      "outputs": [
        {
          "output_type": "stream",
          "text": [
            "[[4.60626851]\n",
            " [2.58436946]]\n"
          ],
          "name": "stdout"
        }
      ]
    },
    {
      "cell_type": "code",
      "metadata": {
        "id": "mU62AesH7Ues",
        "colab_type": "code",
        "outputId": "6dc74d60-5729-4a7f-fe6f-a8b16df975ed",
        "colab": {
          "base_uri": "https://localhost:8080/",
          "height": 295
        }
      },
      "source": [
        "theta_path_bgd = np.array(theta_path_bgd)\n",
        "theta_path_sgd = np.array(theta_path_sgd)\n",
        "theta_path_mgd = np.array(theta_path_mgd)\n",
        "\n",
        "plt.figure(figsize = (7,4))\n",
        "plt.plot(theta_path_sgd[:,0],theta_path_sgd[:,1],\"r-s\",linewidth = 1, label = \"SGD\")\n",
        "plt.plot(theta_path_mgd[:,0],theta_path_mgd[:,1],\"g-+\",linewidth = 2, label = \"MINI_BATCH\")\n",
        "plt.plot(theta_path_bgd[:,0],theta_path_bgd[:,1],\"b-o\",linewidth = 3, label = \"BATCH\")\n",
        "plt.legend(loc=\"upper left\", fontsize=16)\n",
        "plt.xlabel(r\"$theta_0$\",fontsize = 20)\n",
        "plt.ylabel(r\"$theta_1$\",fontsize = 20, rotation = 0)\n",
        "plt.axis([2.5,4.5,2.3,3.9])\n",
        "plt.show()\n"
      ],
      "execution_count": 0,
      "outputs": [
        {
          "output_type": "display_data",
          "data": {
            "image/png": "[encoded data removed]",
            "text/plain": [
              "<Figure size 504x288 with 1 Axes>"
            ]
          },
          "metadata": {
            "tags": []
          }
        }
      ]
    },
    {
      "cell_type": "markdown",
      "metadata": {
        "id": "nZMdz4dIkgds",
        "colab_type": "text"
      },
      "source": [
        "# 다차항 회귀 (Polynomial Regression)\n"
      ]
    },
    {
      "cell_type": "markdown",
      "metadata": {
        "id": "Fo9yjB9k-JKD",
        "colab_type": "text"
      },
      "source": [
        "# Data 생성 및 시각화\n",
        "### X 는 -3 ~ 3 까지의 난수\n",
        "### y 는 0.5x^2 + x + 2 그래프에 노이즈를 추가한 변수"
      ]
    },
    {
      "cell_type": "code",
      "metadata": {
        "id": "33oML7Fu9GBI",
        "colab_type": "code",
        "outputId": "3a9b006f-551c-4c81-b3f4-30ba39b98a4d",
        "colab": {
          "base_uri": "https://localhost:8080/",
          "height": 291
        }
      },
      "source": [
        "import numpy as np\n",
        "import numpy.random as rnd\n",
        "\n",
        "np.random.seed(42)\n",
        "m = 100\n",
        "X = 6*np.random.rand(m,1) - 3\n",
        "y = 0.5*X**2 + X + 2 + np.random.randn(m,1)\n",
        "\n",
        "plt.plot(X,y,\"b.\")\n",
        "plt.xlabel(\"$x_1$\",fontsize = 18)\n",
        "plt.ylabel(\"$y_1$\",rotation = 0, fontsize = 18)\n",
        "plt.axis([-3,3,0,10])\n",
        "plt.show()"
      ],
      "execution_count": 0,
      "outputs": [
        {
          "output_type": "display_data",
          "data": {
            "image/png": "[encoded data removed]",
            "text/plain": [
              "<Figure size 432x288 with 1 Axes>"
            ]
          },
          "metadata": {
            "tags": []
          }
        }
      ]
    },
    {
      "cell_type": "markdown",
      "metadata": {
        "id": "XEw951Sj-dzu",
        "colab_type": "text"
      },
      "source": [
        "# Packge 를 이용한 다항 회귀 모델 생성\n",
        "### sklearn의 PolynomialFeatures 클래스 이용"
      ]
    },
    {
      "cell_type": "code",
      "metadata": {
        "id": "NEr6PyZI9rlx",
        "colab_type": "code",
        "outputId": "0744afe1-4207-4151-ab66-38d07eef08fc",
        "colab": {
          "base_uri": "https://localhost:8080/",
          "height": 50
        }
      },
      "source": [
        "from sklearn.preprocessing import PolynomialFeatures\n",
        "\n",
        "# PolynomialFeatures 클래스 생성\n",
        "poly_features = PolynomialFeatures(degree=2, include_bias = False)\n",
        "X_poly = poly_features.fit_transform(X)\n",
        "\n",
        "print(X[0])\n",
        "print(X_poly[0])"
      ],
      "execution_count": 0,
      "outputs": [
        {
          "output_type": "stream",
          "text": [
            "[-0.75275929]\n",
            "[-0.75275929  0.56664654]\n"
          ],
          "name": "stdout"
        }
      ]
    },
    {
      "cell_type": "code",
      "metadata": {
        "id": "J4Qtd8saAs0P",
        "colab_type": "code",
        "outputId": "ed844282-c3ef-4bed-e3fd-4fb07b4dcf43",
        "colab": {
          "base_uri": "https://localhost:8080/",
          "height": 34
        }
      },
      "source": [
        "lin_reg = LinearRegression()\n",
        "lin_reg.fit(X_poly, y)\n",
        "\n",
        "print(lin_reg.intercept_,lin_reg.coef_)"
      ],
      "execution_count": 0,
      "outputs": [
        {
          "output_type": "stream",
          "text": [
            "[1.78134581] [[0.93366893 0.56456263]]\n"
          ],
          "name": "stdout"
        }
      ]
    },
    {
      "cell_type": "code",
      "metadata": {
        "id": "PnbSBIV6ACu2",
        "colab_type": "code",
        "outputId": "7a8bed9c-a908-4965-8b13-07cbc19f0411",
        "colab": {
          "base_uri": "https://localhost:8080/",
          "height": 291
        }
      },
      "source": [
        "X_new = np.linspace(-3,3,100).reshape(100,1)\n",
        "#print(X_new)\n",
        "X_new_poly = poly_features.transform(X_new)\n",
        "#print(X_new_poly)\n",
        "y_new = lin_reg.predict(X_new_poly)\n",
        "\n",
        "plt.plot(X,y,\"b.\")\n",
        "plt.plot(X_new, y_new, \"r-\", linewidth = 2, label=\"prediction\")\n",
        "plt.xlabel(\"$x_1$\",fontsize = 18)\n",
        "plt.ylabel(\"$y_1$\",rotation = 0, fontsize = 18)\n",
        "plt.legend(loc = \"upper left\", fontsize = 14)\n",
        "plt.axis([-3,3,0,10])\n",
        "plt.show()"
      ],
      "execution_count": 0,
      "outputs": [
        {
          "output_type": "display_data",
          "data": {
            "image/png": "[encoded data removed]",
            "text/plain": [
              "<Figure size 432x288 with 1 Axes>"
            ]
          },
          "metadata": {
            "tags": []
          }
        }
      ]
    },
    {
      "cell_type": "markdown",
      "metadata": {
        "id": "KlVaDbOhJf-p",
        "colab_type": "text"
      },
      "source": [
        "# StandardScaler\n",
        "### 현재 가지고 있는 데이터를 분산 : 1 평균 : 0 으로 전처리를 해준다."
      ]
    },
    {
      "cell_type": "code",
      "metadata": {
        "id": "odm541SEBDPu",
        "colab_type": "code",
        "outputId": "3f60fde9-c5cc-4165-f195-26bb30bbed56",
        "colab": {
          "base_uri": "https://localhost:8080/",
          "height": 291
        }
      },
      "source": [
        "from sklearn.preprocessing import StandardScaler\n",
        "from sklearn.pipeline import Pipeline\n",
        "\n",
        "# polyfeatures : 300차 함수로 fitting, std_scaler : 2차함수로 fitting, linear : 1차함수 fitting \n",
        "for style,width,degree in ((\"g-\",1,300),(\"b--\",2,2),(\"r-+\",2,1)):\n",
        "  polybig_features = PolynomialFeatures(degree=degree, include_bias = False)\n",
        "  std_scaler = StandardScaler()\n",
        "  lin_reg = LinearRegression()\n",
        "  polynomial_regression = Pipeline([\n",
        "      (\"poly_features\",polybig_features),\n",
        "      (\"std_scaler\",std_scaler),\n",
        "      (\"lin_reg\",lin_reg)  \n",
        "  ])\n",
        "  polynomial_regression.fit(X,y)\n",
        "  y_newbig = polynomial_regression.predict(X_new)\n",
        "  plt.plot(X_new, y_newbig, style, label=str(degree), linewidth = width)\n",
        "\n",
        "plt.plot(X,y,\"b.\",linewidth = 3)\n",
        "plt.legend(loc=\"upper left\")\n",
        "plt.xlabel(\"$x_1$\",fontsize = 18)\n",
        "plt.ylabel(\"$y_1$\", rotation = 0, fontsize = 18)\n",
        "plt.axis([-3,3,0,10])\n",
        "plt.show()\n",
        "  "
      ],
      "execution_count": 0,
      "outputs": [
        {
          "output_type": "display_data",
          "data": {
            "image/png": "[encoded data removed]",
            "text/plain": [
              "<Figure size 432x288 with 1 Axes>"
            ]
          },
          "metadata": {
            "tags": []
          }
        }
      ]
    },
    {
      "cell_type": "markdown",
      "metadata": {
        "id": "kJA4nm0YDnbW",
        "colab_type": "text"
      },
      "source": [
        "# Ridge Regression\n",
        "### 규제가 추가된 선형 회귀 버전\n",
        "### 규제항이 cost function에 추가\n",
        "### 모델의 가중치가 가능한 한 작게 유지되도록 노력한다.\n",
        "### 선형 데이터에 다른 alpha 값을 사용해 모델을 훈련. 오른쪽 그래프의 경우, PolynomialFeatures(degree=10)을 사용해 먼저 데이터를 확장하고 StandardScaler를 사용해 스케일을 조정한 후 릿지 모델 적용.\n",
        "### alpha 값을 증가시킬수록 직선에 가까워 지는 현상이 발견."
      ]
    },
    {
      "cell_type": "code",
      "metadata": {
        "id": "KueBXqTcDvHv",
        "colab_type": "code",
        "outputId": "163d4b9c-b390-47a8-bb72-08bc6768a9a3",
        "colab": {
          "base_uri": "https://localhost:8080/",
          "height": 291
        }
      },
      "source": [
        "from sklearn.linear_model import Ridge\n",
        "from sklearn.linear_model import LinearRegression\n",
        "\n",
        "np.random.seed(42)\n",
        "m = 20\n",
        "X = 3*np.random.rand(m,1)\n",
        "y = 1 + 0.5*X + np.random.randn(m,1)/1.5\n",
        "\n",
        "X_new = np.linspace(0,3,100).reshape(100,1)\n",
        "\n",
        "def plot_model(model_class, polynomial, alphas, **model_kargs):\n",
        "  for alpha,style in zip(alphas, (\"b-\",\"g--\",\"r:\")):\n",
        "    model = model_class(alpha, **model_kargs) if alpha > 0 else LinearRegression()\n",
        "    if polynomial:\n",
        "      model = Pipeline([\n",
        "          (\"poly_features\",PolynomialFeatures(degree=10, include_bias=False)),\n",
        "          (\"std_scaler\",StandardScaler()),\n",
        "          (\"regul_reg\",model),\n",
        "      ])\n",
        "      model.fit(X,y)\n",
        "      y_new_regul = model.predict(X_new)\n",
        "      lw = 2 if alpha > 0 else 1\n",
        "      plt.plot(X_new, y_new_regul, style, linewidth = lw, label = r\"$￦alpha = {}$\".format(alpha))\n",
        "  plt.plot(X,y,\"b.\",linewidth = 3)\n",
        "  plt.legend(\"loc=upper left\", fontsize = 15)\n",
        "  plt.xlabel(\"$x_1$\",fontsize = 18)\n",
        "  plt.axis([0,3,0,4])\n",
        "\n",
        "plt.figure(figsize = (8,4))\n",
        "plt.subplot(121)\n",
        "plot_model(Ridge,polynomial = False, alphas = (0,10,100),random_state = 42)\n",
        "plt.ylabel(\"$y$\",rotation = 0, fontsize = 18)\n",
        "plt.subplot(122)\n",
        "plot_model(Ridge,polynomial = True, alphas = (0,10**-5, 1), random_state = 42)\n",
        "plt.show()\n",
        "      "
      ],
      "execution_count": 0,
      "outputs": [
        {
          "output_type": "display_data",
          "data": {
            "image/png": "[encoded data removed]",
            "text/plain": [
              "<Figure size 576x288 with 2 Axes>"
            ]
          },
          "metadata": {
            "tags": []
          }
        }
      ]
    },
    {
      "cell_type": "markdown",
      "metadata": {
        "id": "Iu2_dyRUIxh7",
        "colab_type": "text"
      },
      "source": [
        "# 활성 함수\n",
        "## sigmoid : 로지스틱 함수라고 하며, x값에 변화에 따라 0 ~ 1 값을 출력. (다층 퍼셉트론)\n",
        "## step function : x값이 0이하 일때 0, 이상일때 1을 출력. (단일 퍼셉트론)\n",
        "## ReLU : Gradient Vanishing 문제를 해결하기 위한 함수, x값이 음수일 경우 0을 출력. (다층 퍼셉트론)\n",
        "## tanh : sigmoid function을 재활용하여 -1 ~ 1 범위를 갖는 함수. (다층 퍼셉트론)"
      ]
    },
    {
      "cell_type": "code",
      "metadata": {
        "id": "kSD7um2eE6sK",
        "colab_type": "code",
        "outputId": "f338ad90-afea-46ad-cb44-211231ab9a00",
        "colab": {
          "base_uri": "https://localhost:8080/",
          "height": 282
        }
      },
      "source": [
        "from __future__ import division, print_function, unicode_literals\n",
        "\n",
        "import os\n",
        "import numpy as np\n",
        "%matplotlib inline\n",
        "import matplotlib\n",
        "import matplotlib.pyplot as plt\n",
        "\n",
        "# logit : sigmoid\n",
        "def logit(z):\n",
        "  return 1/(1+np.exp(-z))\n",
        "\n",
        "# relu : ReLU\n",
        "def relu(z):\n",
        "  return np.maximum(0,z)\n",
        "\n",
        "# 도함수\n",
        "def derivative(f,z,eps=0.000001):\n",
        "  return (f(z+eps) - f(z-eps))/(2*eps)\n",
        "\n",
        "z = np.linspace(-5,5,200)\n",
        "\n",
        "plt.figure(figsize = (11,4))\n",
        "\n",
        "plt.subplot(121)\n",
        "plt.plot(z,np.sign(z),\"r-\",linewidth = 2, label = \"step\")\n",
        "plt.plot(z,logit(z),\"g--\",linewidth = 2, label = \"sigmoid\")\n",
        "plt.plot(z,np.tanh(z),\"b-\",linewidth = 2, label = \"tanh\")\n",
        "plt.plot(z,relu(z),\"m-.\",linewidth = 2, label = \"ReLU\")\n",
        "plt.grid(True)\n",
        "plt.legend(loc = \"center right\",fontsize = 14)\n",
        "plt.title(\"activation function: g(z)\",fontsize = 14)\n",
        "plt.axis([-5,5,-1.2,1.2])\n",
        "\n",
        "plt.subplot(122)\n",
        "plt.plot(z,derivative(np.sign,z),\"r-\",linewidth=2, label=\"step\")\n",
        "plt.plot(0,0,\"ro\",markersize = 5)\n",
        "plt.plot(0,0,\"rx\",markersize = 10)\n",
        "plt.plot(z,derivative(logit,z),\"g--\", linewidth = 2, label = \"sigmoid\")\n",
        "plt.plot(z,derivative(np.tanh,z),\"b-\", linewidth = 2, label = \"tanh\")\n",
        "plt.plot(z,derivative(relu,z),\"m-.\", linewidth = 2, label = \"ReLU\")\n",
        "plt.grid(True)\n",
        "plt.title(\"gradient: g'(z)\",fontsize = 14)\n",
        "plt.axis([-5,5,-0.2,1.2])\n",
        "\n",
        "plt.show()\n",
        "\n",
        "\n",
        "\n"
      ],
      "execution_count": 0,
      "outputs": [
        {
          "output_type": "display_data",
          "data": {
            "image/png": "[encoded data removed]",
            "text/plain": [
              "<Figure size 792x288 with 2 Axes>"
            ]
          },
          "metadata": {
            "tags": []
          }
        }
      ]
    },
    {
      "cell_type": "markdown",
      "metadata": {
        "id": "LxtAHjXRLwXT",
        "colab_type": "text"
      },
      "source": [
        "# 오류 역전파"
      ]
    },
    {
      "cell_type": "markdown",
      "metadata": {
        "id": "IW7QJzJyNZhz",
        "colab_type": "text"
      },
      "source": [
        "## 해당 연산망의 그래프 연산을 손으로 작성"
      ]
    },
    {
      "cell_type": "code",
      "metadata": {
        "id": "fEQXIHiLI8jF",
        "colab_type": "code",
        "outputId": "ae946a51-84fc-43d4-ede5-48aa70c40b19",
        "colab": {
          "base_uri": "https://localhost:8080/",
          "height": 34
        }
      },
      "source": [
        "import numpy as np\n",
        "np.random.seed(0)\n",
        "\n",
        "N,D = 3,4\n",
        "\n",
        "x = np.random.randn(N,D)\n",
        "y = np.random.randn(N,D)\n",
        "z = np.random.randn(N,D)\n",
        "\n",
        "a = x*y\n",
        "b = a + z\n",
        "c = np.sum(b)\n",
        "\n",
        "from IPython.display import Image\n",
        "Image(\"1_1.png\")"
      ],
      "execution_count": 0,
      "outputs": [
        {
          "output_type": "execute_result",
          "data": {
            "image/png": "1_1.png",
            "text/plain": [
              "<IPython.core.display.Image object>"
            ]
          },
          "metadata": {
            "tags": []
          },
          "execution_count": 25
        }
      ]
    },
    {
      "cell_type": "code",
      "metadata": {
        "id": "1X2f8uySNdyF",
        "colab_type": "code",
        "outputId": "9e2f7aa8-3aac-4981-f08c-c0fdc43e00cc",
        "colab": {
          "base_uri": "https://localhost:8080/",
          "height": 286
        }
      },
      "source": [
        "grad_c = 1.0\n",
        "grad_b = grad_c*np.ones((N,D))\n",
        "grad_a = grad_b.copy()\n",
        "grad_z = grad_b.copy()\n",
        "grad_x = grad_a*y\n",
        "grad_y = grad_a*x\n",
        "\n",
        "print(\"grad_c : \" , grad_c)\n",
        "print(\"grad_b : \" , grad_b)\n",
        "print(\"grad_a : \" , grad_a)\n",
        "print(\"grad_z : \" , grad_z)\n",
        "print(\"grad_x : \" , grad_x)\n",
        "print(\"grad_y : \" , grad_y)"
      ],
      "execution_count": 0,
      "outputs": [
        {
          "output_type": "stream",
          "text": [
            "grad_c :  1.0\n",
            "grad_b :  [[1. 1. 1. 1.]\n",
            " [1. 1. 1. 1.]\n",
            " [1. 1. 1. 1.]]\n",
            "grad_a :  [[1. 1. 1. 1.]\n",
            " [1. 1. 1. 1.]\n",
            " [1. 1. 1. 1.]]\n",
            "grad_z :  [[1. 1. 1. 1.]\n",
            " [1. 1. 1. 1.]\n",
            " [1. 1. 1. 1.]]\n",
            "grad_x :  [[ 0.76103773  0.12167502  0.44386323  0.33367433]\n",
            " [ 1.49407907 -0.20515826  0.3130677  -0.85409574]\n",
            " [-2.55298982  0.6536186   0.8644362  -0.74216502]]\n",
            "grad_y :  [[ 1.76405235  0.40015721  0.97873798  2.2408932 ]\n",
            " [ 1.86755799 -0.97727788  0.95008842 -0.15135721]\n",
            " [-0.10321885  0.4105985   0.14404357  1.45427351]]\n"
          ],
          "name": "stdout"
        }
      ]
    },
    {
      "cell_type": "markdown",
      "metadata": {
        "id": "s932SBXvRmJh",
        "colab_type": "text"
      },
      "source": [
        "## (2) 와 (3) 의 차이 점\n",
        "### (2) 의 경우 : 수동으로 진행\n",
        "### (3) 의 경우 : 자동으로 진행"
      ]
    },
    {
      "cell_type": "code",
      "metadata": {
        "id": "e3-Wl3_oOLdh",
        "colab_type": "code",
        "outputId": "cf6a0f9e-0234-40e1-c7f4-11c4ffc58519",
        "colab": {
          "base_uri": "https://localhost:8080/",
          "height": 118
        }
      },
      "source": [
        "import torch\n",
        "\n",
        "x = torch.randn(N,D,requires_grad=True)\n",
        "y = torch.randn(N,D,requires_grad=True)\n",
        "z = torch.randn(N,D)\n",
        "\n",
        "a = x*y\n",
        "b = a+z\n",
        "c = torch.sum(b)\n",
        "\n",
        "c.backward()\n",
        "\n",
        "print(x.grad)\n",
        "print(y.grad)"
      ],
      "execution_count": 0,
      "outputs": [
        {
          "output_type": "stream",
          "text": [
            "tensor([[ 0.5873,  0.2411,  1.9175,  1.4268],\n",
            "        [ 1.3673, -1.2458, -0.4462,  1.8146],\n",
            "        [-0.9656, -1.4032, -1.4447, -0.8649]])\n",
            "tensor([[ 1.6149, -1.2526,  0.0399, -0.4973],\n",
            "        [-0.1885,  0.2304,  0.8564,  0.4202],\n",
            "        [ 0.8840,  0.0660, -0.4256,  1.1056]])\n"
          ],
          "name": "stdout"
        }
      ]
    },
    {
      "cell_type": "markdown",
      "metadata": {
        "id": "cGTIRH8bPPM1",
        "colab_type": "text"
      },
      "source": [
        "# 신경망 학습"
      ]
    },
    {
      "cell_type": "code",
      "metadata": {
        "id": "No2n9lzcPIzM",
        "colab_type": "code",
        "outputId": "4be29ef7-8c83-456f-c022-14cb61fd75be",
        "colab": {
          "base_uri": "https://localhost:8080/",
          "height": 298
        }
      },
      "source": [
        "import torch\n",
        "\n",
        "# N : 배치의 크기, D_in : 입력 차원, H : 은닉층, D_out : 출력층\n",
        "N, D_in, H, D_out = 64,1000,100,10\n",
        "\n",
        "x = torch.randn(N,D_in)\n",
        "y = torch.randn(N,D_out)\n",
        "\n",
        "w1 = torch.randn(D_in,H, requires_grad = True)\n",
        "w2 = torch.randn(H,D_out, requires_grad = True)\n",
        "\n",
        "# 학습률\n",
        "learning_rate = 10e-6\n",
        "\n",
        "diff_loss = list()\n",
        "axis_t = [i for i in range(0,500)]\n",
        "\n",
        "for t in range(500):\n",
        "  # 순전파 계산\n",
        "  y_pred = x.mm(w1).clamp(min=0).mm(w2)\n",
        "  # 실시간 loss 계산\n",
        "  loss = (y_pred - y).pow(2).sum()\n",
        "  # 역전파 계산\n",
        "  loss.backward()\n",
        "  diff_loss.append(loss)\n",
        "  \n",
        "  with torch.no_grad():\n",
        "    w1 -= learning_rate*w1.grad\n",
        "    w2 -= learning_rate*w2.grad\n",
        "    # 가중치 갱신 후 0으로 갱신\n",
        "    w1.grad.zero_()\n",
        "    w2.grad.zero_()\n",
        "    \n",
        "plt.plot(axis_t, diff_loss, \"b--\", label = \"loss value\")\n",
        "plt.grid(True)\n",
        "plt.xlabel(\"steps\",fontsize = 18)\n",
        "plt.legend(loc = \"upper right\", fontsize = 14)\n",
        "plt.show()"
      ],
      "execution_count": 0,
      "outputs": [
        {
          "output_type": "display_data",
          "data": {
            "image/png": "[encoded data removed]",
            "text/plain": [
              "<Figure size 432x288 with 1 Axes>"
            ]
          },
          "metadata": {
            "tags": []
          }
        }
      ]
    },
    {
      "cell_type": "markdown",
      "metadata": {
        "id": "8ft-z5O_Ly1J",
        "colab_type": "text"
      },
      "source": [
        "# 7번\n",
        "## A : 1000       0.05\n",
        "## B : 2000       0.10\n",
        "## C : 3000       0.10\n"
      ]
    },
    {
      "cell_type": "code",
      "metadata": {
        "id": "s7vCwdGhXJRH",
        "colab_type": "code",
        "outputId": "40935159-94e4-4968-b558-d0238802a17b",
        "colab": {
          "base_uri": "https://localhost:8080/",
          "height": 84
        }
      },
      "source": [
        "# 만약 3개의 제조사로부터 구매한 IC가 섞여 있는 경우, 임의로 선택한 IC가 불량일 확률은?\n",
        "n_a = 1000\n",
        "n_b = 2000\n",
        "n_c = 3000\n",
        "\n",
        "n_a_inf = n_a*0.05\n",
        "n_b_inf = n_b*0.10\n",
        "n_c_inf = n_c*0.10\n",
        "\n",
        "print(\"A 불량품 : \",n_a_inf)\n",
        "print(\"B 불량품 : \",n_b_inf)\n",
        "print(\"C 불량품 : \",n_c_inf)\n",
        "\n",
        "\n",
        "sol1 = (n_a_inf + n_b_inf + n_c_inf)/(n_a + n_b + n_c)\n",
        "\n",
        "print(\"Sol1 : \",sol1)"
      ],
      "execution_count": 0,
      "outputs": [
        {
          "output_type": "stream",
          "text": [
            "A 불량품 :  50.0\n",
            "B 불량품 :  200.0\n",
            "C 불량품 :  300.0\n",
            "Sol1 :  0.09166666666666666\n"
          ],
          "name": "stdout"
        }
      ]
    },
    {
      "cell_type": "code",
      "metadata": {
        "id": "8Y9NNU_HX0Ls",
        "colab_type": "code",
        "outputId": "b1868ff5-a168-4db6-a0c6-e49ccbdd76f6",
        "colab": {
          "base_uri": "https://localhost:8080/",
          "height": 34
        }
      },
      "source": [
        "# 임의로 선택한 IC가 불량인 경우, 그것이 제조사 A로부터 만들어질 확률은 얼마인가?\n",
        "sol2 = n_a_inf/(n_a_inf + n_b_inf + n_c_inf)\n",
        "\n",
        "print(\"Sol2 : \", sol2)"
      ],
      "execution_count": 0,
      "outputs": [
        {
          "output_type": "stream",
          "text": [
            "Sol2 :  0.09090909090909091\n"
          ],
          "name": "stdout"
        }
      ]
    },
    {
      "cell_type": "markdown",
      "metadata": {
        "id": "AgacmAiZYnAd",
        "colab_type": "text"
      },
      "source": [
        "# 8번\n",
        "## 대학원생 : 1000     0.25\n",
        "## 학 부 생  : 2000      0.10\n"
      ]
    },
    {
      "cell_type": "code",
      "metadata": {
        "id": "XliHcyZtYT72",
        "colab_type": "code",
        "outputId": "1cb2e814-f233-4842-d148-5231d5fce1b6",
        "colab": {
          "base_uri": "https://localhost:8080/",
          "height": 50
        }
      },
      "source": [
        "n_d = 1000\n",
        "n_e = 2000\n",
        "\n",
        "n_d_dom = n_d*0.25\n",
        "n_e_dom = n_e*0.10\n",
        "\n",
        "print(\"기숙사 대학원생 : \", n_d_dom)\n",
        "print(\"기숙사 학부생 : \", n_e_dom)"
      ],
      "execution_count": 0,
      "outputs": [
        {
          "output_type": "stream",
          "text": [
            "기숙사 대학원생 :  250.0\n",
            "기숙사 학부생 :  200.0\n"
          ],
          "name": "stdout"
        }
      ]
    },
    {
      "cell_type": "code",
      "metadata": {
        "id": "mo2JXZbMZQEI",
        "colab_type": "code",
        "outputId": "434d3ae3-597e-42e0-b63b-2d1224744e3a",
        "colab": {
          "base_uri": "https://localhost:8080/",
          "height": 34
        }
      },
      "source": [
        "# 1. 한 학생을 임의로 선정한 경우, 그 학생이 기숙사에 살고 있는 학부생일 확률은 얼마인가?\n",
        "ans_1 = n_e_dom/(n_d+n_e)\n",
        "\n",
        "print(\"ans1 : \", ans_1)"
      ],
      "execution_count": 0,
      "outputs": [
        {
          "output_type": "stream",
          "text": [
            "ans1 :  0.06666666666666667\n"
          ],
          "name": "stdout"
        }
      ]
    },
    {
      "cell_type": "code",
      "metadata": {
        "id": "xeZTNYOKZoR0",
        "colab_type": "code",
        "outputId": "5852151d-a231-4027-addb-377d8b8e3d21",
        "colab": {
          "base_uri": "https://localhost:8080/",
          "height": 34
        }
      },
      "source": [
        "# 기숙사에 살고 있는 한 학생을 임의로 선정한 경우, 그 학생이 대학원생일 확률은 얼마인가?\n",
        "ans_2 = n_d_dom/(n_d_dom + n_e_dom)\n",
        "\n",
        "print(\"ans2 : \", ans_2)"
      ],
      "execution_count": 0,
      "outputs": [
        {
          "output_type": "stream",
          "text": [
            "ans2 :  0.5555555555555556\n"
          ],
          "name": "stdout"
        }
      ]
    },
    {
      "cell_type": "code",
      "metadata": {
        "id": "zXBgeDu-dYXd",
        "colab_type": "code",
        "outputId": "cf7bb7be-586c-49c1-b441-adbf647417a7",
        "colab": {
          "base_uri": "https://localhost:8080/",
          "height": 34
        }
      },
      "source": [
        "from IPython.display import Image\n",
        "Image(\"45.png\")"
      ],
      "execution_count": 0,
      "outputs": [
        {
          "output_type": "execute_result",
          "data": {
            "image/png": "45.png",
            "text/plain": [
              "<IPython.core.display.Image object>"
            ]
          },
          "metadata": {
            "tags": []
          },
          "execution_count": 34
        }
      ]
    },
    {
      "cell_type": "markdown",
      "metadata": {
        "id": "1994Srphg94W",
        "colab_type": "text"
      },
      "source": [
        "## (1) 해당 퍼셉트론에 의해 결정되는 결정평면의 방향과 원점에서의 거리를 구하세요.\n",
        "### w1x1 + w2x2 + w3x3 = 1.0\n",
        "### (1.3)x1 + (0.9)x2 + (0.7)x3 - 1 =0\n",
        "### 법선 벡터 = [1.3, 0.9, 0.7]\n",
        "### 거리(h) = abs(-1)/sqrt(1.3^2 + 0.9^2 + 0.7^2)"
      ]
    },
    {
      "cell_type": "code",
      "metadata": {
        "id": "SJWipLmSdzwP",
        "colab_type": "code",
        "outputId": "0072e242-942b-4313-a03c-49f305c80d15",
        "colab": {
          "base_uri": "https://localhost:8080/",
          "height": 34
        }
      },
      "source": [
        "h = abs(-1)/np.sqrt(1.3**2 + 0.9**2 + 0.7**2)\n",
        "\n",
        "print(\"h : \", h)\n"
      ],
      "execution_count": 0,
      "outputs": [
        {
          "output_type": "stream",
          "text": [
            "h :  0.5783149319662402\n"
          ],
          "name": "stdout"
        }
      ]
    },
    {
      "cell_type": "markdown",
      "metadata": {
        "id": "MFM_d0tajPcZ",
        "colab_type": "text"
      },
      "source": [
        "## T = 2.0, T = 0.0 으로 바꾸기 위해 퍼셉트론을 수정하고, 결정 평면의 변화를 설명하세요.\n",
        "## T = 2.0 일때,\n",
        "## (1.3)x1 + (0.9)x2 + (0.7)x3 - 2 =0\n",
        "### 거리(h1) = abs(-2)/sqrt(1.3^2 + 0.9^2 + 0.7^2) = 1.15662\n",
        "\n",
        "## T = 0.0 일때,\n",
        "## (1.3)x1 + (0.9)x2 + (0.7)x3 =0\n",
        "### 거리(h2) = abs(0)/sqrt(1.3^2 + 0.9^2 + 0.7^2) = 0"
      ]
    },
    {
      "cell_type": "code",
      "metadata": {
        "id": "6PpAQgezjNBY",
        "colab_type": "code",
        "outputId": "c8413e5f-9ac0-4a70-c7da-3d0a4abe735c",
        "colab": {
          "base_uri": "https://localhost:8080/",
          "height": 34
        }
      },
      "source": [
        "h1 = abs(-2)/np.sqrt(1.3**2 + 0.9**2 + 0.7**2)\n",
        "\n",
        "print(\"h1 : \", h1)"
      ],
      "execution_count": 0,
      "outputs": [
        {
          "output_type": "stream",
          "text": [
            "h1 :  1.1566298639324804\n"
          ],
          "name": "stdout"
        }
      ]
    },
    {
      "cell_type": "code",
      "metadata": {
        "id": "uqnfNmnijNHI",
        "colab_type": "code",
        "outputId": "18382ded-8627-4e54-8e8d-18ea7c9f43b3",
        "colab": {
          "base_uri": "https://localhost:8080/",
          "height": 34
        }
      },
      "source": [
        "from IPython.display import Image\n",
        "Image(\"12.png\")"
      ],
      "execution_count": 0,
      "outputs": [
        {
          "output_type": "execute_result",
          "data": {
            "image/png": "12.png",
            "text/plain": [
              "<IPython.core.display.Image object>"
            ]
          },
          "metadata": {
            "tags": []
          },
          "execution_count": 37
        }
      ]
    },
    {
      "cell_type": "markdown",
      "metadata": {
        "id": "twNgTLYyqcjA",
        "colab_type": "text"
      },
      "source": [
        "## (1) y(t) : 실제값    wT(t)x(t) : 잘못된 값  -> 따라서 항상 부호가 정반대 < 0\n",
        "## (2) y(t)wT(t+1)x(t) - y(t)wT(t)x(t) > 0\n",
        "##      y(t)x(t){wT(t+1) - wT(t)} > 0\n",
        "##      y(t)x(t){wT(t) + y(t)x(t) - wT(t)} > 0\n",
        "##      y(t)x(t){y(t)x(t)} > 0\n",
        "##      {x(t)^2}{y(t)^2} > 0\n",
        "## (3) gradient => -y(t)x(t) > 0\n",
        "## (4) wT * x = w0 + w1x1 + w2x2\n",
        "##      w0 + w1x1 + w2x2 = 0\n",
        "##      w2x2 = - w1x1 - w0\n",
        "##      x2 = (-w1/w2)x1 - (w2/w0)\n",
        "##      a = -w1/w2        ,   b = -w2/w0"
      ]
    },
    {
      "cell_type": "code",
      "metadata": {
        "id": "9KAw1rKau_LT",
        "colab_type": "code",
        "outputId": "7c8b1a87-e9fe-4539-bdff-2de62332b222",
        "colab": {
          "base_uri": "https://localhost:8080/",
          "height": 34
        }
      },
      "source": [
        "from IPython.display import Image\n",
        "Image(\"11.png\")"
      ],
      "execution_count": 0,
      "outputs": [
        {
          "output_type": "execute_result",
          "data": {
            "image/png": "11.png",
            "text/plain": [
              "<IPython.core.display.Image object>"
            ]
          },
          "metadata": {
            "tags": []
          },
          "execution_count": 38
        }
      ]
    },
    {
      "cell_type": "code",
      "metadata": {
        "id": "vHcpo2yw5g2i",
        "colab_type": "code",
        "outputId": "0a7a1a16-8275-4ee0-e4c1-8ee38f6373fc",
        "colab": {
          "base_uri": "https://localhost:8080/",
          "height": 218
        }
      },
      "source": [
        "# (1) 가중치 행렬을 표현하시오.\n",
        "import numpy as np\n",
        "\n",
        "U1 = np.array([[-0.3, 1.0, 1.2],[1.6, -1.0, -1.1]]).T\n",
        "print(U1)\n",
        "\n",
        "U2 = np.array([[1.0, 1.0, -1.0],[0.7, 0.5, 1.0]]).T\n",
        "print(U2)\n",
        "\n",
        "U3 = np.array([[0.5,-0.8,1.0],[-0.1,0.3,0.4]]).T\n",
        "print(U3)\n",
        "\n",
        "U4 = np.array([[1.0,0.1,-0.2],[-0.2,1.3,-0.4]]).T\n",
        "print(U4)"
      ],
      "execution_count": 0,
      "outputs": [
        {
          "output_type": "stream",
          "text": [
            "[[-0.3  1.6]\n",
            " [ 1.  -1. ]\n",
            " [ 1.2 -1.1]]\n",
            "[[ 1.   0.7]\n",
            " [ 1.   0.5]\n",
            " [-1.   1. ]]\n",
            "[[ 0.5 -0.1]\n",
            " [-0.8  0.3]\n",
            " [ 1.   0.4]]\n",
            "[[ 1.  -0.2]\n",
            " [ 0.1  1.3]\n",
            " [-0.2 -0.4]]\n"
          ],
          "name": "stdout"
        }
      ]
    },
    {
      "cell_type": "code",
      "metadata": {
        "id": "NY3Cy_fH7zZ3",
        "colab_type": "code",
        "outputId": "0fbeb049-1d0d-479d-c374-7370f31c3b6c",
        "colab": {
          "base_uri": "https://localhost:8080/",
          "height": 50
        }
      },
      "source": [
        "#(2) x = (1,0)T 일때 출력값 로지스틱 시그모이드를 사용\n",
        "\n",
        "x = np.array([[1,1,0]])\n",
        "#print(x)\n",
        "\n",
        "# logit : sigmoid\n",
        "def logit(z):\n",
        "  return 1/(1+np.exp(-z))\n",
        "\n",
        "y1 = U1.T.dot(x.T)\n",
        "y1_sig = logit(y1)\n",
        "#print(y1_sig)\n",
        "\n",
        "x1 = np.array([[1,float(y1_sig[0]),float(y1_sig[1])]])\n",
        "y2 = U2.T.dot(x1.T)\n",
        "y2_sig = logit(y2)\n",
        "\n",
        "x2 = np.array([[1,float(y2_sig[0]),float(y2_sig[1])]])\n",
        "y3 = U3.T.dot(x2.T)\n",
        "y3_sig = logit(y3)\n",
        "\n",
        "x3 = np.array([[1,float(y3_sig[0]),float(y3_sig[1])]])\n",
        "y4 = U4.T.dot(x3.T)\n",
        "y4_sig = logit(y4)\n",
        "\n",
        "print(y4_sig)"
      ],
      "execution_count": 0,
      "outputs": [
        {
          "output_type": "stream",
          "text": [
            "[[0.72021291]\n",
            " [0.60807077]]\n"
          ],
          "name": "stdout"
        }
      ]
    },
    {
      "cell_type": "code",
      "metadata": {
        "id": "A27852yU9Ofu",
        "colab_type": "code",
        "outputId": "64318bee-64ef-432d-c5ca-b4ea47fe86a8",
        "colab": {
          "base_uri": "https://localhost:8080/",
          "height": 50
        }
      },
      "source": [
        "#(3) x = (1,0)T 일때 출력값 ReLU를 사용\n",
        "\n",
        "# relu : ReLU\n",
        "def relu(z):\n",
        "  return np.maximum(0,z)\n",
        "\n",
        "x = np.array([[1,1,0]])\n",
        "\n",
        "y1 = U1.T.dot(x.T)\n",
        "y1_sig = relu(y1)\n",
        "#print(y1_sig)\n",
        "\n",
        "x1 = np.array([[1,float(y1_sig[0]),float(y1_sig[1])]])\n",
        "y2 = U2.T.dot(x1.T)\n",
        "y2_sig = relu(y2)\n",
        "\n",
        "x2 = np.array([[1,float(y2_sig[0]),float(y2_sig[1])]])\n",
        "y3 = U3.T.dot(x2.T)\n",
        "y3_sig = relu(y3)\n",
        "\n",
        "x3 = np.array([[1,float(y3_sig[0]),float(y3_sig[1])]])\n",
        "y4 = U4.T.dot(x3.T)\n",
        "y4_sig = relu(y4)\n",
        "\n",
        "print(y4_sig)\n"
      ],
      "execution_count": 0,
      "outputs": [
        {
          "output_type": "stream",
          "text": [
            "[[0.949]\n",
            " [1.095]]\n"
          ],
          "name": "stdout"
        }
      ]
    },
    {
      "cell_type": "code",
      "metadata": {
        "id": "YFm8cSoFKCvH",
        "colab_type": "code",
        "outputId": "7f152a60-310b-45bd-d629-b3541abeff56",
        "colab": {
          "base_uri": "https://localhost:8080/",
          "height": 168
        }
      },
      "source": [
        "#(4) \n",
        "U3 = np.array([[0.5,-0.8,0.9],[-0.1,0.3,0.4]]).T\n",
        "print(U3)\n",
        "\n",
        "x = np.array([[1,1,0]])\n",
        "#print(x)\n",
        "\n",
        "# logit : sigmoid\n",
        "def logit(z):\n",
        "  return 1/(1+np.exp(-z))\n",
        "\n",
        "y1 = U1.T.dot(x.T)\n",
        "y1_sig = logit(y1)\n",
        "#print(y1_sig)\n",
        "\n",
        "x1 = np.array([[1,float(y1_sig[0]),float(y1_sig[1])]])\n",
        "y2 = U2.T.dot(x1.T)\n",
        "y2_sig = logit(y2)\n",
        "\n",
        "x2 = np.array([[1,float(y2_sig[0]),float(y2_sig[1])]])\n",
        "y3 = U3.T.dot(x2.T)\n",
        "y3_sig = logit(y3)\n",
        "\n",
        "x3 = np.array([[1,float(y3_sig[0]),float(y3_sig[1])]])\n",
        "y4 = U4.T.dot(x3.T)\n",
        "y4_sig = logit(y4)\n",
        "\n",
        "print(\"< new_y4_sig_sigmoid >\")\n",
        "print(y4_sig)\n",
        "\n",
        "\n",
        "def relu(z):\n",
        "  return np.maximum(0,z)\n",
        "\n",
        "x = np.array([[1,1,0]])\n",
        "\n",
        "y1 = U1.T.dot(x.T)\n",
        "y1_sig = relu(y1)\n",
        "#print(y1_sig)\n",
        "\n",
        "x1 = np.array([[1,float(y1_sig[0]),float(y1_sig[1])]])\n",
        "y2 = U2.T.dot(x1.T)\n",
        "y2_sig = relu(y2)\n",
        "\n",
        "x2 = np.array([[1,float(y2_sig[0]),float(y2_sig[1])]])\n",
        "y3 = U3.T.dot(x2.T)\n",
        "y3_sig = relu(y3)\n",
        "\n",
        "x3 = np.array([[1,float(y3_sig[0]),float(y3_sig[1])]])\n",
        "y4 = U4.T.dot(x3.T)\n",
        "y4_sig = relu(y4)\n",
        "\n",
        "print(\"< new_y_sig_ReLU >\")\n",
        "print(y4_sig)\n",
        "\n"
      ],
      "execution_count": 0,
      "outputs": [
        {
          "output_type": "stream",
          "text": [
            "[[ 0.5 -0.1]\n",
            " [-0.8  0.3]\n",
            " [ 0.9  0.4]]\n",
            "< new_y4_sig_sigmoid >\n",
            "[[0.7198378 ]\n",
            " [0.60229099]]\n",
            "< new_y_sig_ReLU >\n",
            "[[0.9325]\n",
            " [0.8805]]\n"
          ],
          "name": "stdout"
        }
      ]
    },
    {
      "cell_type": "code",
      "metadata": {
        "id": "WLRGtdACKk_L",
        "colab_type": "code",
        "outputId": "578ac07b-d5ca-4a34-8788-989c212ea36c",
        "colab": {
          "base_uri": "https://localhost:8080/",
          "height": 34
        }
      },
      "source": [
        "from IPython.display import Image\n",
        "Image(\"13.png\")"
      ],
      "execution_count": 0,
      "outputs": [
        {
          "output_type": "execute_result",
          "data": {
            "image/png": "13.png",
            "text/plain": [
              "<IPython.core.display.Image object>"
            ]
          },
          "metadata": {
            "tags": []
          },
          "execution_count": 43
        }
      ]
    },
    {
      "cell_type": "code",
      "metadata": {
        "id": "jrGY-2s2KwA8",
        "colab_type": "code",
        "outputId": "fb4748eb-3f66-4021-bd4b-f4d11a53e85c",
        "colab": {
          "base_uri": "https://localhost:8080/",
          "height": 34
        }
      },
      "source": [
        "from IPython.display import Image\n",
        "Image(\"1_4.png\")"
      ],
      "execution_count": 0,
      "outputs": [
        {
          "output_type": "execute_result",
          "data": {
            "image/png": "1_4.png",
            "text/plain": [
              "<IPython.core.display.Image object>"
            ]
          },
          "metadata": {
            "tags": []
          },
          "execution_count": 44
        }
      ]
    },
    {
      "cell_type": "code",
      "metadata": {
        "id": "CWg9ySQJUkuX",
        "colab_type": "code",
        "colab": {}
      },
      "source": [
        ""
      ],
      "execution_count": 0,
      "outputs": []
    }
  ]
}