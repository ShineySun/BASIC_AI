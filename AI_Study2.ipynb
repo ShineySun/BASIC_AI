{
  "nbformat": 4,
  "nbformat_minor": 0,
  "metadata": {
    "colab": {
      "name": "AI_Study2.ipynb",
      "provenance": [],
      "collapsed_sections": [],
      "include_colab_link": true
    },
    "kernelspec": {
      "name": "python3",
      "display_name": "Python 3"
    },
    "accelerator": "GPU"
  },
  "cells": [
    {
      "cell_type": "markdown",
      "metadata": {
        "id": "view-in-github",
        "colab_type": "text"
      },
      "source": [
        "<a href=\"https://colab.research.google.com/github/ShineySun/BASIC_AI/blob/master/AI_Study2.ipynb\" target=\"_parent\"><img src=\"https://colab.research.google.com/assets/colab-badge.svg\" alt=\"Open In Colab\"/></a>"
      ]
    },
    {
      "cell_type": "markdown",
      "metadata": {
        "id": "4S8snkqy_El2",
        "colab_type": "text"
      },
      "source": [
        "#인공지능 study 2\n",
        "## 20143038 김선필\n",
        "###### 1. [영상 인식] 다음 코드를 무엇을 의미하는지 이해하고 실행하여 결과를 확인하세요."
      ]
    },
    {
      "cell_type": "code",
      "metadata": {
        "id": "u5rMOfl8_AmF",
        "colab_type": "code",
        "colab": {}
      },
      "source": [
        "import torch\n",
        "import torch.nn as nn\n",
        "import torch.nn.functional as F\n",
        "import torch.optim as optim\n",
        "from torchvision import datasets,transforms\n",
        "from torch.autograd import Variable\n",
        "import matplotlib.pyplot as plt\n",
        "%matplotlib inline"
      ],
      "execution_count": 0,
      "outputs": []
    },
    {
      "cell_type": "code",
      "metadata": {
        "id": "O_1hI-6UAaZR",
        "colab_type": "code",
        "colab": {}
      },
      "source": [
        "is_cuda = False\n",
        "# gpu 사용 여부 검사\n",
        "if torch.cuda.is_available():\n",
        "  is_cuda = True\n",
        "\n",
        "# Mnist 데이터를 정규화 (각 채널별)\n",
        "transformation = transforms.Compose([transforms.ToTensor(),transforms.Normalize((0.1307,),(0.3081,))])\n",
        "train_dataset = datasets.MNIST('data/',train = True, transform = transformation, download = True)\n",
        "test_dataset = datasets.MNIST('data/',train = False, transform = transformation, download = True)\n",
        "\n",
        "train_loader = torch.utils.data.DataLoader(train_dataset, batch_size = 32, shuffle = True)\n",
        "test_loader = torch.utils.data.DataLoader(test_dataset, batch_size = 32, shuffle = True)\n",
        "# sample_data -> train_loader의 시작 데이터\n",
        "sample_data = next(iter(train_loader))"
      ],
      "execution_count": 0,
      "outputs": []
    },
    {
      "cell_type": "code",
      "metadata": {
        "id": "-ZgYSbVIApKY",
        "colab_type": "code",
        "outputId": "b62b2af6-9924-4723-8e62-b87c854ef42d",
        "colab": {
          "base_uri": "https://localhost:8080/",
          "height": 265
        }
      },
      "source": [
        "# plot_img : 평균과 표준편차를 이용하여 이미지를 정규화 시키고 출력한다.\n",
        "def plot_img(image):\n",
        "  image = image.numpy()[0]\n",
        "  mean = 0.1307\n",
        "  std = 0.3081\n",
        "  image = ((mean*image) + std)\n",
        "  plt.imshow(image, cmap = 'gray')\n",
        "\n",
        "# 화면 출력 확인\n",
        "plot_img(sample_data[0][2]) "
      ],
      "execution_count": 0,
      "outputs": [
        {
          "output_type": "display_data",
          "data": {
            "image/png": "[encoded data removed]",
            "text/plain": [
              "<Figure size 432x288 with 1 Axes>"
            ]
          },
          "metadata": {
            "tags": []
          }
        }
      ]
    },
    {
      "cell_type": "code",
      "metadata": {
        "id": "OsYm3cl0CbOE",
        "colab_type": "code",
        "outputId": "9aef7b39-955f-4e28-cc31-ddcff7a745af",
        "colab": {
          "base_uri": "https://localhost:8080/",
          "height": 265
        }
      },
      "source": [
        "# 화면 출력 확인\n",
        "plot_img(sample_data[0][1])"
      ],
      "execution_count": 0,
      "outputs": [
        {
          "output_type": "display_data",
          "data": {
            "image/png": "[encoded data removed]",
            "text/plain": [
              "<Figure size 432x288 with 1 Axes>"
            ]
          },
          "metadata": {
            "tags": []
          }
        }
      ]
    },
    {
      "cell_type": "code",
      "metadata": {
        "id": "T0wDB0AyC_lg",
        "colab_type": "code",
        "outputId": "0e3efd8e-aec6-49dd-e068-5adb12220aa3",
        "colab": {
          "base_uri": "https://localhost:8080/",
          "height": 53
        }
      },
      "source": [
        "# class definition\n",
        "class Net(nn.Module):\n",
        "  # 클래스 생성자\n",
        "  def __init__(self):\n",
        "    super().__init__()\n",
        "    # input : 1  output : 10  kernel : 5x5\n",
        "    self.conv1 = nn.Conv2d(1,10,kernel_size = 5)\n",
        "    # input : 10  output : 20  kernel : 5x5\n",
        "    self.conv2 = nn.Conv2d(10,20,kernel_size = 5)\n",
        "    # Dropout : 생성된 특징맵에서 필요한 것들만 보겠다. - overfitting 해결\n",
        "    # 디폴트 값의 확률의 드롭아웃을 만든다.\n",
        "    self.conv2_drop = nn.Dropout2d()\n",
        "\n",
        "    # 선형 완전 연결층\n",
        "    # input : 320  output : 50\n",
        "    self.fc1 = nn.Linear(320,50)\n",
        "    # input : 50   output : 10\n",
        "    self.fc2 = nn.Linear(50,10)\n",
        "  \n",
        "  # 순전파\n",
        "  def forward(self,x):\n",
        "    # conv1 층 통과후 max pooling 하여 활성함수 relu를 통과 시킨다.\n",
        "    x = F.relu(F.max_pool2d(self.conv1(x),2))\n",
        "    # conv2 을 통과 후 드랍 아웃을 시킨다.\n",
        "    x = F.relu(F.max_pool2d(self.conv2_drop(self.conv2(x)),2))\n",
        "    x = x.view(-1,320)\n",
        "    x = F.relu(self.fc1(x))\n",
        "    x = self.fc2(x)\n",
        "    # log softmax 함수를 통과 시킨 x 값을 반환한다.\n",
        "    return F.log_softmax(x,dim=1)\n",
        "\n",
        "model = Net()\n",
        "\n",
        "if is_cuda:\n",
        "  model.cuda()\n",
        "\n",
        "# 스토캐스틱 그레디언트 디센트 방법으로 최적화를 시킨다.\n",
        "# 학습률은 0.01 로 정해줬다.\n",
        "optimizer = optim.SGD(model.parameters(),lr = 0.01)\n",
        "\n",
        "data, target = next(iter(train_loader))\n",
        "# data를 모델에 통과 시킨다.\n",
        "output = model(Variable(data.cuda()))\n",
        "\n",
        "# output.size() 출력 확인\n",
        "print(output.size())\n",
        "\n",
        "# target.size() 출력 확인\n",
        "print(target.size())\n"
      ],
      "execution_count": 0,
      "outputs": [
        {
          "output_type": "stream",
          "text": [
            "torch.Size([32, 10])\n",
            "torch.Size([32])\n"
          ],
          "name": "stdout"
        }
      ]
    },
    {
      "cell_type": "code",
      "metadata": {
        "id": "BCrePkVVhakg",
        "colab_type": "code",
        "colab": {}
      },
      "source": [
        "# loss 와 accuracy를 계산하여 반환하는 함수\n",
        "def fit(epoch, model, data_loader, phase = 'training', volatile = False):\n",
        "  if phase == 'training':\n",
        "    model.train()\n",
        "  if phase == 'validation':\n",
        "    model.eval()\n",
        "    volatile = True\n",
        "  \n",
        "  running_loss = 0.0\n",
        "  running_correct = 0\n",
        "\n",
        "  for batch_idx, (data,target) in enumerate(data_loader):\n",
        "    if is_cuda:\n",
        "      data,target = data.cuda(),target.cuda()\n",
        "    data.target = Variable(data,volatile),Variable(target)\n",
        "    # training phase에 그레디언트값을 0으로 초기화\n",
        "    if phase == 'training':\n",
        "      optimizer.zero_grad()\n",
        "    output = model(data)\n",
        "    # batch 사이즈마다 loss 를 구한다.\n",
        "    loss = F.nll_loss(output,target)\n",
        "    \n",
        "    # loss를 구해서 running_loss에 더해준다.\n",
        "    # running은 배치 사이즈마다 갱신이 된다.\n",
        "    running_loss += F.nll_loss(output, target,size_average = False).data\n",
        "    # 학습을 통해 예측을 한다.\n",
        "    preds = output.data.max(dim = 1, keepdim = True)[1]\n",
        "    # 예측을 한 값과 비교하여 맞을 경우 더해준다.\n",
        "    running_correct += preds.eq(target.data.view_as(preds)).cpu().sum()\n",
        "\n",
        "    if phase == 'training':\n",
        "      # 역전파\n",
        "      loss.backward()\n",
        "      # 가중치 업데이트\n",
        "      optimizer.step()\n",
        "\n",
        "  loss = running_loss/len(data_loader.dataset)\n",
        "  accuracy = 100.*running_correct/len(data_loader.dataset)\n",
        "\n",
        "  print(f\"{phase} loss is {loss:{5}.{2}} and {phase} accuracy is {running_correct}/{len(data_loader.dataset)}{accuracy:{10}.{4}}\")  \n",
        "  return loss, accuracy\n"
      ],
      "execution_count": 0,
      "outputs": []
    },
    {
      "cell_type": "code",
      "metadata": {
        "id": "zAQ37bdYop1T",
        "colab_type": "code",
        "outputId": "94837edf-2de2-43f4-cd76-d0f3606c80ca",
        "colab": {
          "base_uri": "https://localhost:8080/",
          "height": 757
        }
      },
      "source": [
        "train_losses, train_accuracy = [],[]\n",
        "val_losses, val_accuracy = [],[]\n",
        "# epoch를 19세대만큼 돌린다.\n",
        "for epoch in range(1,20):\n",
        "  epoch_loss, epoch_accuracy = fit(epoch, model, train_loader, phase = 'training')\n",
        "  val_epoch_loss, val_epoch_accuracy = fit(epoch,model,test_loader, phase='validation')\n",
        "  train_losses.append(epoch_loss)\n",
        "  train_accuracy.append(epoch_accuracy)\n",
        "  val_losses.append(val_epoch_loss)\n",
        "  val_accuracy.append(val_epoch_accuracy)"
      ],
      "execution_count": 0,
      "outputs": [
        {
          "output_type": "stream",
          "text": [
            "/usr/local/lib/python3.6/dist-packages/torch/nn/_reduction.py:43: UserWarning: size_average and reduce args will be deprecated, please use reduction='sum' instead.\n",
            "  warnings.warn(warning.format(ret))\n"
          ],
          "name": "stderr"
        },
        {
          "output_type": "stream",
          "text": [
            "training loss is  0.63 and training accuracy is 47958/60000     79.93\n",
            "validation loss is  0.16 and validation accuracy is 9524/10000     95.24\n",
            "training loss is  0.21 and training accuracy is 56408/60000     94.01\n",
            "validation loss is 0.092 and validation accuracy is 9714/10000     97.14\n",
            "training loss is  0.16 and training accuracy is 57245/60000     95.41\n",
            "validation loss is 0.078 and validation accuracy is 9762/10000     97.62\n",
            "training loss is  0.13 and training accuracy is 57662/60000      96.1\n",
            "validation loss is 0.068 and validation accuracy is 9787/10000     97.87\n",
            "training loss is  0.12 and training accuracy is 57867/60000     96.44\n",
            "validation loss is 0.062 and validation accuracy is 9803/10000     98.03\n",
            "training loss is  0.11 and training accuracy is 58110/60000     96.85\n",
            "validation loss is 0.053 and validation accuracy is 9834/10000     98.34\n",
            "training loss is   0.1 and training accuracy is 58220/60000     97.03\n",
            "validation loss is 0.054 and validation accuracy is 9837/10000     98.37\n",
            "training loss is 0.091 and training accuracy is 58419/60000     97.36\n",
            "validation loss is  0.05 and validation accuracy is 9844/10000     98.44\n",
            "training loss is 0.085 and training accuracy is 58491/60000     97.49\n",
            "validation loss is 0.046 and validation accuracy is 9848/10000     98.48\n",
            "training loss is 0.082 and training accuracy is 58559/60000      97.6\n",
            "validation loss is 0.041 and validation accuracy is 9872/10000     98.72\n",
            "training loss is 0.077 and training accuracy is 58615/60000     97.69\n",
            "validation loss is 0.039 and validation accuracy is 9866/10000     98.66\n",
            "training loss is 0.076 and training accuracy is 58651/60000     97.75\n",
            "validation loss is 0.042 and validation accuracy is 9866/10000     98.66\n",
            "training loss is 0.072 and training accuracy is 58699/60000     97.83\n",
            "validation loss is 0.036 and validation accuracy is 9875/10000     98.75\n",
            "training loss is 0.071 and training accuracy is 58700/60000     97.83\n",
            "validation loss is 0.035 and validation accuracy is 9880/10000      98.8\n",
            "training loss is 0.066 and training accuracy is 58805/60000     98.01\n",
            "validation loss is 0.032 and validation accuracy is 9891/10000     98.91\n",
            "training loss is 0.065 and training accuracy is 58843/60000     98.07\n",
            "validation loss is 0.035 and validation accuracy is 9886/10000     98.86\n",
            "training loss is 0.062 and training accuracy is 58885/60000     98.14\n",
            "validation loss is 0.033 and validation accuracy is 9887/10000     98.87\n",
            "training loss is 0.061 and training accuracy is 58887/60000     98.14\n",
            "validation loss is 0.035 and validation accuracy is 9887/10000     98.87\n",
            "training loss is 0.058 and training accuracy is 58966/60000     98.28\n",
            "validation loss is 0.032 and validation accuracy is 9894/10000     98.94\n"
          ],
          "name": "stdout"
        }
      ]
    },
    {
      "cell_type": "markdown",
      "metadata": {
        "id": "2SKQMGCrVKVk",
        "colab_type": "text"
      },
      "source": [
        "### 학습이 진행됨에 따라 training set & validation set 의 loss 값이 줄어드는 모습을 보인다."
      ]
    },
    {
      "cell_type": "code",
      "metadata": {
        "id": "oyDDG4ofqH70",
        "colab_type": "code",
        "outputId": "26e3efe9-b547-40e6-b8f6-aaf67e708e1c",
        "colab": {
          "base_uri": "https://localhost:8080/",
          "height": 283
        }
      },
      "source": [
        "# training loss : blue\n",
        "plt.plot(range(1,len(train_losses)+1), train_losses, 'bo', label = 'training loss')\n",
        "# validation loss : red\n",
        "plt.plot(range(1,len(val_losses)+1), val_losses, 'r', label = \"validation loss\")\n",
        "plt.legend()"
      ],
      "execution_count": 0,
      "outputs": [
        {
          "output_type": "execute_result",
          "data": {
            "text/plain": [
              "<matplotlib.legend.Legend at 0x7f68b8027240>"
            ]
          },
          "metadata": {
            "tags": []
          },
          "execution_count": 52
        },
        {
          "output_type": "display_data",
          "data": {
            "image/png": "[encoded data removed]",
            "text/plain": [
              "<Figure size 432x288 with 1 Axes>"
            ]
          },
          "metadata": {
            "tags": []
          }
        }
      ]
    },
    {
      "cell_type": "markdown",
      "metadata": {
        "id": "IkfOYJqhVaWx",
        "colab_type": "text"
      },
      "source": [
        "### 학습이 진행됨에 따라 training set & validation set 의 accuracy가 향상되는 모습을 보인다."
      ]
    },
    {
      "cell_type": "code",
      "metadata": {
        "id": "RhhxWrhks8OE",
        "colab_type": "code",
        "outputId": "c7e7a6ed-3094-42c7-9329-e7867b6fc5fe",
        "colab": {
          "base_uri": "https://localhost:8080/",
          "height": 283
        }
      },
      "source": [
        "plt.plot(range(1,len(train_accuracy)+1), train_accuracy, 'bo', label = 'training accuracy')\n",
        "plt.plot(range(1,len(val_accuracy)+1), val_accuracy, 'r', label = \"validation accuracy\")\n",
        "plt.legend()"
      ],
      "execution_count": 0,
      "outputs": [
        {
          "output_type": "execute_result",
          "data": {
            "text/plain": [
              "<matplotlib.legend.Legend at 0x7f68b8776390>"
            ]
          },
          "metadata": {
            "tags": []
          },
          "execution_count": 53
        },
        {
          "output_type": "display_data",
          "data": {
            "image/png": "[encoded data removed]",
            "text/plain": [
              "<Figure size 432x288 with 1 Axes>"
            ]
          },
          "metadata": {
            "tags": []
          }
        }
      ]
    },
    {
      "cell_type": "markdown",
      "metadata": {
        "id": "EkbtpEk08UO_",
        "colab_type": "text"
      },
      "source": [
        "### [CNN] 다음 코드를 무엇을 의미하는지 이해하고 실행하여 결과를 확인하세요."
      ]
    },
    {
      "cell_type": "markdown",
      "metadata": {
        "id": "SQmTC8FR_Y62",
        "colab_type": "text"
      },
      "source": [
        "##### 뉴럴 네트워크는 torch.nn 패키지를 이용하여 생성할 수 있다. \n",
        "##### autograd와 autograd를 이용하여 모델을 정의하고 미분을 수행하는 nn 패키지에 대하여 알았다. nn.Module은 여러개의 레이어와 output을 리턴하는 forward(input) 메서드를 포함한다."
      ]
    },
    {
      "cell_type": "markdown",
      "metadata": {
        "id": "lgO-tskFABiB",
        "colab_type": "text"
      },
      "source": [
        "#### 일반적인 뉴럴 네터워크의 학습 절차는 다음과 같다.\n",
        "##### - 학습 가능한 파라미터나 weight가 있는 뉴럴 네트워크를 정의한다.\n",
        "##### - 입력 데이터셋에 대한 반복 학습을 진행한다.\n",
        "##### - 네트워크를 통해 입력 값을 처리한다.\n",
        "##### - loss를 계산한다.\n",
        "##### - 손실 계산 = 출력(output)과 정답(target)의 차이\n",
        "##### - 그레디언트를 네트워크의 파라미터로 역전파(backward) 시킨다.\n",
        "##### - 다음과 같이 간단한 갱신 룰을 이용하여 네트워크의 weight를 갱신한다.\n",
        "##### Weight = Weight - learning_rate * gradient"
      ]
    },
    {
      "cell_type": "code",
      "metadata": {
        "id": "hbcBDpcTtON8",
        "colab_type": "code",
        "colab": {}
      },
      "source": [
        "# torch.nn 패키지를 사용하여 신경망을 생성함.\n",
        "# nn 패키지는 모델을 정의할 때, autograd를 통해 자동미분 기능을 제공함\n",
        "# nn.Module은 층과 전방 전파 forward propagation(입력 -> 출력)을 쉽게 구현함\n",
        "# 참고로 nn 패키지는 mini-batch만 지원함, 예로 nnConv2d는 4차 Tensor를 받음(nSamples*nChannels*height*width))\n",
        "# 아래 AlexNet 예시는 숫자를 분류하는 간단한 컨볼루션 신경망의 예임\n",
        "# 예시는 사진 입력을 받고, 몇 개의 층에 전방 전파하면서 분류를 출력함\n",
        "# - 출력을 위해서 모델은 다음과 같은 학습을 수행함.\n",
        "# - 신경망은 학습가능한 매개변수(가중치들)들을 가짐\n",
        "# - 사진 데이터를 반복적으로 입력함\n",
        "# - 신경망을 통해 입력을 처리함 (전방 전파)\n",
        "# - 손실 (오차)를 계산함  - 실제 출력과 예측 출력을 비교하여 학습의 올바름을 판단함\n",
        "# - 오차로부터 그레디언트 (경사, 방향)을 신경망의 각 매개변수에게 역전파함 (오류 역전파)\n",
        "# - 신경망의 매개변수들을 갱신함 ((미래)가중치 = (현재)가중치 - 학습률 * 그래디언트 )\n",
        "\n",
        "# 위의 컨볼루션 신경망의 부분들을 torch를 통해서 손쉽게 구현할 수 있음.\n",
        "# 단지 forward 함수만 정의하면, autograd를 이용해 해당 연산 그래프의 그래디언트를 구하는 backward 자동적으로 정의됨\n",
        "# forward 함수는 Tensor를 이용할 수 있는 다양한 연산들을 사용하여 정의 가능함\n",
        "# torch.Tensor : 자동 미분 기능을 지원하는 다차원 배열, 각 Tensor에 해당하는 그래디언트를 가짐\n",
        "# nn.Module : 신경망 모듈이며 매개변수의 캡슐화, GPU 연산 등 작업을 쉽게 가능하게 함\n",
        "# nn.Parameter : 모듈이 지정되면 매개변수들을 자동으로 관리하는 Tensor의 하나임\n"
      ],
      "execution_count": 0,
      "outputs": []
    },
    {
      "cell_type": "markdown",
      "metadata": {
        "id": "kq70Hly_BCfe",
        "colab_type": "text"
      },
      "source": [
        "### 네트워크 정의(Define the Network)"
      ]
    },
    {
      "cell_type": "markdown",
      "metadata": {
        "id": "x-u_ZU5rDNhO",
        "colab_type": "text"
      },
      "source": [
        "###### 사용자는 직접 forward 함수만 정의해주면 된다. 그래디언트가 계산되는 backward 함수는 autograd를 사용함으로써 자동으로 정의 된다. 사용자는 forward 함수에서 모든 텐서 연산을 사용할 수 있다."
      ]
    },
    {
      "cell_type": "code",
      "metadata": {
        "id": "aLkOA_fIBJXt",
        "colab_type": "code",
        "outputId": "e60d0323-babc-4f86-d15e-dfce2c708889",
        "colab": {
          "base_uri": "https://localhost:8080/",
          "height": 143
        }
      },
      "source": [
        "import torch\n",
        "import torch.nn as nn\n",
        "import torch.nn.functional as F\n",
        "\n",
        "class Net(nn.Module):\n",
        "\n",
        "  def __init__(self):\n",
        "    super(Net, self).__init__()\n",
        "    # 1 input image channel, 6 output channels, 5x5 square convolution\n",
        "    # kernel\n",
        "    self.conv1 = nn.Conv2d(1,6,5)\n",
        "    self.conv2 = nn.Conv2d(6,16,5)\n",
        "    # an affine operation : y = Wx + b\n",
        "    self.fc1 = nn.Linear(16*5*5, 120)\n",
        "    self.fc2 = nn.Linear(120, 84)\n",
        "    self.fc3 = nn.Linear(84,10)\n",
        "\n",
        "  def forward(self,x):\n",
        "    # Max pooling over a (2,2) window\n",
        "    x = F.max_pool2d(F.relu(self.conv1(x)), (2,2))\n",
        "    # If the size is a square you can only specify a single number\n",
        "    x = F.max_pool2d(F.relu(self.conv2(x)),2)\n",
        "    x = x.view(-1, self.num_flat_features(x))\n",
        "    x = F.relu(self.fc1(x))\n",
        "    x = F.relu(self.fc2(x))\n",
        "    x = self.fc3(x)\n",
        "    return x\n",
        "\n",
        "  def num_flat_features(self,x):\n",
        "    size = x.size()[1:]  # all dimensions except the batch dimension\n",
        "    num_features = 1\n",
        "    for s in size:\n",
        "      num_features *= s\n",
        "    return num_features\n",
        "\n",
        "net = Net()\n",
        "print(net)"
      ],
      "execution_count": 0,
      "outputs": [
        {
          "output_type": "stream",
          "text": [
            "Net(\n",
            "  (conv1): Conv2d(1, 6, kernel_size=(5, 5), stride=(1, 1))\n",
            "  (conv2): Conv2d(6, 16, kernel_size=(5, 5), stride=(1, 1))\n",
            "  (fc1): Linear(in_features=400, out_features=120, bias=True)\n",
            "  (fc2): Linear(in_features=120, out_features=84, bias=True)\n",
            "  (fc3): Linear(in_features=84, out_features=10, bias=True)\n",
            ")\n"
          ],
          "name": "stdout"
        }
      ]
    },
    {
      "cell_type": "markdown",
      "metadata": {
        "id": "hpXl-WNmDtEI",
        "colab_type": "text"
      },
      "source": [
        "#### (2) 정의된 컨볼루션 신경망의 구조 설명"
      ]
    },
    {
      "cell_type": "code",
      "metadata": {
        "id": "at15_8W2C920",
        "colab_type": "code",
        "outputId": "357571c8-8fb2-4e4b-db0d-fe59bec1a1c5",
        "colab": {
          "base_uri": "https://localhost:8080/",
          "height": 53
        }
      },
      "source": [
        "# net.parameters()를 사용하여 정의된 신경망의 학습가능한 매개변수들을 확인할 수 있음\n",
        "params = list(net.parameters())\n",
        "print(len(params))\n",
        "print(params[0].size())  # conv1's . weight"
      ],
      "execution_count": 0,
      "outputs": [
        {
          "output_type": "stream",
          "text": [
            "10\n",
            "torch.Size([6, 1, 5, 5])\n"
          ],
          "name": "stdout"
        }
      ]
    },
    {
      "cell_type": "markdown",
      "metadata": {
        "id": "nBsyJhnUEP2d",
        "colab_type": "text"
      },
      "source": [
        "###### 32 x 32 크기의 랜덤 값을 입력으로 사용하면 다음과 같다. 참고로 이 네트워크(LeNet)에 대한 예상 입력 크기는 32 x 32 이다. 이 네트워크를 MNIST 데이터셋을 대상으로 사용하기 위해서는 데이터셋의 이미지를 32x32 크기로 변경할 필요가 있다."
      ]
    },
    {
      "cell_type": "code",
      "metadata": {
        "id": "QV21gGI4EJbz",
        "colab_type": "code",
        "outputId": "dffb1bff-7bb2-4355-ea0d-47d72f75bca1",
        "colab": {
          "base_uri": "https://localhost:8080/",
          "height": 53
        }
      },
      "source": [
        "# 다음의 임의의 32 x 32 입력을 가정함\n",
        "# 참고로 크기가 다른 입력을 받을 때는 입력의 크기를 재조정하거나 신경망을 수정함\n",
        "input = torch.randn(1,1,32,32)\n",
        "out = net(input)\n",
        "print(out)"
      ],
      "execution_count": 0,
      "outputs": [
        {
          "output_type": "stream",
          "text": [
            "tensor([[ 0.0458,  0.0531,  0.0565,  0.0112,  0.0038,  0.0271, -0.0748, -0.0935,\n",
            "         -0.0627,  0.0927]], grad_fn=<AddmmBackward>)\n"
          ],
          "name": "stdout"
        }
      ]
    },
    {
      "cell_type": "markdown",
      "metadata": {
        "id": "1TyymOsUEzu_",
        "colab_type": "text"
      },
      "source": [
        "###### 모든 파라미터의 그레디언트 버퍼를 0으로 설정하고, 랜덤 그레디언트로 역전파를 진행한다."
      ]
    },
    {
      "cell_type": "code",
      "metadata": {
        "id": "1Zb4Q0rPEv8m",
        "colab_type": "code",
        "colab": {}
      },
      "source": [
        "# 오류 역전파를 통해 그레디언트를 구하기 전에 모든 가중치의 그레디언트 버퍼들을 초기화\n",
        "net.zero_grad()\n",
        "out.backward(torch.randn(1,10))"
      ],
      "execution_count": 0,
      "outputs": []
    },
    {
      "cell_type": "markdown",
      "metadata": {
        "id": "sS_rvijdFH6P",
        "colab_type": "text"
      },
      "source": [
        "##### torch.nn 은 mini-batch만을 지원한다. 전체 torch.nn 패키지는 mini-batch 형태인 입력만을 지원하며, 단일 데이터는 입력으로 지원하지 않는다.\n",
        "\n",
        "##### 예를 들어 nn.Conv2d 는 nSamples x nChannels x Height x Width의 4차원 텐서를 취한다.\n",
        "\n",
        "##### 만약 단일 샘플이 있다면, input.unsqueeze(0) 을 사용하여 가짜 임시 배치 차원을 추가하면 된다.\n",
        "\n",
        "##### 좀 더 진행하기에 앞서, 지금까지 살펴본 것을 정리하면 다음과 같다.\n",
        "##### torch.Tensor - backward() 와 같은 autograd 연산을 지원하는 다차원 배열이며 텐서에 대한 그레디언트를 가지고 있다. \n",
        "##### nn.Module - 뉴럴 네트워크 모듈로서 파라미터를 GPU로 옮기거나, 내보내기, 불러오기 등의 보조 작업을 이용하여 파라미터를 캡슐화 하는 편리한 방법이다.\n",
        "##### autograd.Function - autograd 연산의 forward와 backward에 대한 정의를 구현한다. 모든 Tensor 연산은 최소한 하나의 Function 노드를 생성하는데, 이 노드는 Tensor를 생성하고 기록을 인코딩 하는 여러 함수들에 연결된다."
      ]
    },
    {
      "cell_type": "markdown",
      "metadata": {
        "id": "aMo_jkmwbq3Q",
        "colab_type": "text"
      },
      "source": [
        "### 손실함수 ( Loss Function )\n",
        "###### 오차 함수는 (출력, 정답) 형태의 입력을 받아, 출력이 정답에서 얼마나 멀리 떨어져 있는지 추정하는 값을 계산한다.\n",
        "###### nn 패키지에는 여러 가지 손실 함수들이 존재하는데 가장 간단한 loss는 nn.MSELoss로 입력과 정답 사이의 평균 제곱오차를 계산한다."
      ]
    },
    {
      "cell_type": "code",
      "metadata": {
        "id": "jwam7-MvFEQh",
        "colab_type": "code",
        "outputId": "42e45ccc-3160-46a0-f955-27a0d7421873",
        "colab": {
          "base_uri": "https://localhost:8080/",
          "height": 35
        }
      },
      "source": [
        "# 손실 함수 정의 및 임의의 값들에 대해서 오차 결과 확인\n",
        "# nn 패키지는 많이 사용되는 손실함수들을 제공하며, 해당 예제는 단순한 MSE를 사용\n",
        "output = net(input)\n",
        "target = torch.randn(10)  # a dummy target, for example\n",
        "target = target.view(1,-1)\n",
        "criterion = nn.MSELoss()\n",
        "\n",
        "loss = criterion(output, target)\n",
        "print(loss)"
      ],
      "execution_count": 0,
      "outputs": [
        {
          "output_type": "stream",
          "text": [
            "tensor(0.7612, grad_fn=<MseLossBackward>)\n"
          ],
          "name": "stdout"
        }
      ]
    },
    {
      "cell_type": "markdown",
      "metadata": {
        "id": "J9t4mdRufH1u",
        "colab_type": "text"
      },
      "source": [
        "### 역전파 ( Backpropagation )\n",
        "###### 에러를 역전파하기 위해 사용자는 loss.backward() 를 호출하면 된다. 다만 기존에는 그레디언트들을 초기화 할 필요가 있다. 그렇지 않으면 그레디언트들이 존재하는 그레디언트에 누적되어 저장되기 때문이다.\n",
        "\n",
        "####### loss.backward() 를 호출하고 backward 호출 이전과 이후의 conv1's의 바이어스 그레디언트를 살펴 볼 것이다.\n"
      ]
    },
    {
      "cell_type": "code",
      "metadata": {
        "id": "WcbITdUpccEL",
        "colab_type": "code",
        "outputId": "7921fbe1-0dd7-499c-8cfc-244b1d5fca87",
        "colab": {
          "base_uri": "https://localhost:8080/",
          "height": 53
        }
      },
      "source": [
        "# 앞에 코드에서 언급한 것과 같이 오류 역전파하기 전, 그래디언트를 초기화해야 함\n",
        "# backward() 수행 후 어떤 변화가 있는지 확인하고, 초기화의 필요성을 확인함\n",
        "net.zero_grad()  # zeroes the gradient buffers of all parameters\n",
        "\n",
        "print('conv1.bias.grad before backward')\n",
        "print(net.conv1.bias.grad)"
      ],
      "execution_count": 0,
      "outputs": [
        {
          "output_type": "stream",
          "text": [
            "conv1.bias.grad before backward\n",
            "tensor([0., 0., 0., 0., 0., 0.])\n"
          ],
          "name": "stdout"
        }
      ]
    },
    {
      "cell_type": "code",
      "metadata": {
        "id": "YTwwrV9feu7M",
        "colab_type": "code",
        "outputId": "fa2d62d8-1c18-4f56-fed2-95f039fca420",
        "colab": {
          "base_uri": "https://localhost:8080/",
          "height": 53
        }
      },
      "source": [
        "loss.backward()\n",
        "\n",
        "print('conv1.bias.grad after backward')\n",
        "print(net.conv1.bias.grad)"
      ],
      "execution_count": 0,
      "outputs": [
        {
          "output_type": "stream",
          "text": [
            "conv1.bias.grad after backward\n",
            "tensor([ 0.0007, -0.0047,  0.0032,  0.0033, -0.0067, -0.0038])\n"
          ],
          "name": "stdout"
        }
      ]
    },
    {
      "cell_type": "markdown",
      "metadata": {
        "id": "RKwqVeblfy9J",
        "colab_type": "text"
      },
      "source": [
        "### 가중치 갱신 ( Update the weights )\n",
        "###### 실제로 사용되는 가장 간단한 갱신 룰은 SGD이며 다음과 같은 식을 가진다.\n",
        "###### weight = weight - learning_rate * gradient\n",
        "\n",
        "##### 뉴럴 네트워크를 사용할 때 SGD, Nesterov-SGD, Adam, RMSProp 등과 같은 다양한 갱신 룰을 사용하고 싶을 수도 있다. 이러한 룰의 사용을 위해 PyTorch는 위와 같은 갱신 룰을 포함하는 torch.optim 패키지를 제공한다."
      ]
    },
    {
      "cell_type": "code",
      "metadata": {
        "id": "xnoh3PlGe7_l",
        "colab_type": "code",
        "colab": {}
      },
      "source": [
        "# SGD를 이용하여 가중치 갱신하는 코드는 다음과 같음\n",
        "learning_rate = 0.01\n",
        "for f in net.parameters():\n",
        "  f.data.sub_(f.grad.data*learning_rate)\n",
        "\n",
        "# 하지만 위 구현 코드보다 실제, torch.optim에서 구현되는 SDG, Adam, RMSProp 등을 사용함\n",
        "# 오류 역전파에서 최적화하는 방법을 보인 예제 코드\n",
        "import torch.optim as optim\n",
        "\n",
        "#create optimizer\n",
        "optimizer = optim.SGD(net.parameters(), lr = 0.01)\n",
        "\n",
        "# in training loop:\n",
        "optimizer.zero_grad() # zero the gradient buffers\n",
        "output = net(input)\n",
        "loss = criterion(output, target)\n",
        "loss.backward()\n",
        "optimizer.step()  # Does the update"
      ],
      "execution_count": 0,
      "outputs": []
    },
    {
      "cell_type": "markdown",
      "metadata": {
        "id": "Hahq4fs62hvh",
        "colab_type": "text"
      },
      "source": [
        "## 3. [분류기 학습] 다음 코드를 무엇을 의미하는지 이해하고 실행하여 결과를 확인하세요."
      ]
    },
    {
      "cell_type": "code",
      "metadata": {
        "id": "JY3G5Q1JhNum",
        "colab_type": "code",
        "colab": {}
      },
      "source": [
        "# 1번의 기초적인 신경망을 통해서 사진 분류기를 학습함\n",
        "# 데이터집합은 CIFAR-10 이며, 아래의 예와 같이 10가지의 3 (R,G,B) 채널의 32 x 32 크기의 사진으로 구성됨.\n",
        "# CIFAR-10 과 같이 많이 사용되는 데이터 집합은 torchvision 패키지에서 제공한다.\n"
      ],
      "execution_count": 0,
      "outputs": []
    },
    {
      "cell_type": "markdown",
      "metadata": {
        "id": "uQihjWHg3PhR",
        "colab_type": "text"
      },
      "source": [
        "##### pytorch 에서 torchvision 이라는 패키지가 있는데, 해당 패키지는 일반적으로 사용되는 Imagenet, CIFAR10, MINIST 등과 같은 데이터셋들에 대한 데이터 로더(torchvision.datasets)와 이미지용 데이터 변환기(torch.utils.data.DataLoader)를 제공한다.\n",
        "\n",
        "##### CIFAR -10 데이터셋은 비행기, 자동차, 새, 고양이, 사슴, 개, 개구리, 말, 배, 트럭 순서의 클래스들을 가지고 있다. CIFAR-10의 이미지들은 3x32x32 인데 다시 말해 픽셀 크기의 3채널 컬러 이미지이다.\n",
        "\n",
        "#### 이미지 분류기 학습\n",
        "######1. torchvision을 이용하여 CIFAR-10 의 학습(training), 평가(test) 데이터셋을 로드하여 정규화한다.\n",
        "###### 2. 컨볼류션 뉴럴 네트워크를 학습 시킨다.\n",
        "###### 3. 손실 함수를 정의한다.\n",
        "###### 4. 학습 데이터를 이용하여 네트워크를 학습 시킨다.\n",
        "###### 5. 평가 데이터셋을 이용하여 네트워크를 평가한다."
      ]
    },
    {
      "cell_type": "markdown",
      "metadata": {
        "id": "Vn3Zt-Mm4aD-",
        "colab_type": "text"
      },
      "source": [
        "#1. CIFAR-10 로딩 및 정규화\n",
        "#### torchvision을 이용하면 CIFAR-10 로딩은 손쉬운 작업.\n",
        "#### torchvision 패키지의 출력은 [0,1] 범위의 PILImage 이다. 출력 데이터의 범위를 [-1,1]의 텐서로 정규화 한다,"
      ]
    },
    {
      "cell_type": "code",
      "metadata": {
        "id": "D6cAHFbL4KmX",
        "colab_type": "code",
        "outputId": "e532dad1-4a64-4667-a7bc-9dca35c26bf3",
        "colab": {
          "base_uri": "https://localhost:8080/",
          "height": 53
        }
      },
      "source": [
        "import torch\n",
        "import torchvision\n",
        "import torchvision.transforms as transforms\n",
        "\n",
        "transform = transforms.Compose(\n",
        "    [transforms.ToTensor(),transforms.Normalize((0.5,0.5,0.5),(0.5,0.5,0.5))])\n",
        "\n",
        "trainset = torchvision.datasets.CIFAR10(root='./data', train = True, download = True, transform = transform)\n",
        "trainloader = torch.utils.data.DataLoader(trainset, batch_size = 4, shuffle = True, num_workers = 2)\n",
        "\n",
        "testset = torchvision.datasets.CIFAR10(root='./data', train = False, download = True, transform = transform)\n",
        "testloader = torch.utils.data.DataLoader(testset, batch_size = 4, shuffle = False, num_workers = 2)\n",
        "\n",
        "classes = ('plane', 'car', 'bird', 'cat', 'deer', 'dog', 'frog', 'horse', 'ship', 'truck')"
      ],
      "execution_count": 0,
      "outputs": [
        {
          "output_type": "stream",
          "text": [
            "Files already downloaded and verified\n",
            "Files already downloaded and verified\n"
          ],
          "name": "stdout"
        }
      ]
    },
    {
      "cell_type": "code",
      "metadata": {
        "id": "xsHTMmxO5dJ9",
        "colab_type": "code",
        "outputId": "6362a8d2-7a37-46a0-846d-ac1b2ea52697",
        "colab": {
          "base_uri": "https://localhost:8080/",
          "height": 156
        }
      },
      "source": [
        "# 훈련집합의 일부 사진들 확인\n",
        "import matplotlib.pyplot as plt\n",
        "import numpy as np\n",
        "\n",
        "# functions to show an image\n",
        "def imshow(img):\n",
        "  img = img/2 + 0.5     # unnormalize\n",
        "  npimg = img.numpy()\n",
        "  plt.imshow(np.transpose(npimg,(1,2,0)))\n",
        "\n",
        "# got some random training images\n",
        "dataiter = iter(trainloader)\n",
        "images, labels = dataiter.next()\n",
        "\n",
        "# show images\n",
        "imshow(torchvision.utils.make_grid(images))\n",
        "# print labels\n",
        "print(' '.join('%5s' % classes[labels[j]] for j in range(4)))"
      ],
      "execution_count": 0,
      "outputs": [
        {
          "output_type": "stream",
          "text": [
            " deer   car  frog  ship\n"
          ],
          "name": "stdout"
        },
        {
          "output_type": "display_data",
          "data": {
            "image/png": "[encoded data removed]",
            "text/plain": [
              "<Figure size 432x288 with 1 Axes>"
            ]
          },
          "metadata": {
            "tags": []
          }
        }
      ]
    },
    {
      "cell_type": "markdown",
      "metadata": {
        "id": "ONtbc1Ku8FF6",
        "colab_type": "text"
      },
      "source": [
        "## 2. 컨볼루션 뉴럴 네트워크 (합성곱 신경망) 정의\n",
        "#### 3채널 32 x 32 크기의 사진을 입력받고, 신경망을 통과해 10 부류를 수행"
      ]
    },
    {
      "cell_type": "code",
      "metadata": {
        "id": "OBvlZwOj7SNQ",
        "colab_type": "code",
        "colab": {}
      },
      "source": [
        "import torch.nn as nn\n",
        "import torch.nn.functional as F\n",
        "\n",
        "class Net(nn.Module):\n",
        "  def __init__(self):\n",
        "    super(Net,self).__init__()\n",
        "    # input : 3   output : 6   kernel : 5x5\n",
        "    self.conv1 = nn.Conv2d(3,6,5)\n",
        "    # pooling\n",
        "    self.pool = nn.MaxPool2d(2,2)\n",
        "    # input : 6    output : 16    kernel : 5x5\n",
        "    self.conv2 = nn.Conv2d(6,16,5)\n",
        "    # input : 16x5x5        output : 120\n",
        "    self.fc1 = nn.Linear(16*5*5, 120)\n",
        "    # input : 120          output : 84\n",
        "    self.fc2 = nn.Linear(120,84)\n",
        "    # input : 84          output : 10\n",
        "    self.fc3 = nn.Linear(84,10)\n",
        "    \n",
        "  def forward(self,x) : \n",
        "    # conv1 -> relu -> pooling\n",
        "    x = self.pool(F.relu(self.conv1(x)))\n",
        "    # conv2 -> relu -> pool\n",
        "    x = self.pool(F.relu(self.conv2(x)))\n",
        "    x = x.view(-1,16*5*5)\n",
        "    # fc1 -> relu\n",
        "    x = F.relu(self.fc1(x))\n",
        "    # fc2 -> relu\n",
        "    x = F.relu(self.fc2(x))\n",
        "    # fc3\n",
        "    x = self.fc3(x)\n",
        "    return x\n",
        "\n",
        "net =Net()"
      ],
      "execution_count": 0,
      "outputs": []
    },
    {
      "cell_type": "markdown",
      "metadata": {
        "id": "Nz2Ayxkm9ywg",
        "colab_type": "text"
      },
      "source": [
        "## 3. 손실 함수 및 Optimizer 정의\n",
        "#### 손실 함수는 Classification Cross-Entropy를 사용하고, optimizer는 momentum 을 세팅한 SGD를 이용한다."
      ]
    },
    {
      "cell_type": "code",
      "metadata": {
        "id": "Y7JCSDXX9vn7",
        "colab_type": "code",
        "colab": {}
      },
      "source": [
        "import torch.optim as optim\n",
        "\n",
        "criterion = nn.CrossEntropyLoss()\n",
        "optimizer = optim.SGD(net.parameters(), lr = 0.001, momentum = 0.9)"
      ],
      "execution_count": 0,
      "outputs": []
    },
    {
      "cell_type": "markdown",
      "metadata": {
        "id": "IXKYsqc9_tmY",
        "colab_type": "text"
      },
      "source": [
        "## 4. 네트워크 학습\n",
        "#### 단순히 데이터를 반복시켜 네트워크와 optimizer의 입력으로 넘겨준다.\n",
        "#### 훈련 집합을 이용하여 신경망을 학습시킴."
      ]
    },
    {
      "cell_type": "code",
      "metadata": {
        "id": "wqXzZbvQ_rvp",
        "colab_type": "code",
        "outputId": "db5b1046-cd50-4826-dc7b-8e4b1b192344",
        "colab": {
          "base_uri": "https://localhost:8080/",
          "height": 251
        }
      },
      "source": [
        "for epoch in range(2): \n",
        "  # loop over the dataset multiple times\n",
        "  running_loss = 0.0\n",
        "  \n",
        "  for i,data in enumerate(trainloader,0):\n",
        "    # get the inputs\n",
        "    inputs, labels = data\n",
        "    \n",
        "    # zero the parameter gradients\n",
        "    optimizer.zero_grad()\n",
        "    \n",
        "    # forward + backward + optimize\n",
        "    outputs = net(inputs)\n",
        "    loss = criterion(outputs, labels)\n",
        "    loss.backward()\n",
        "    optimizer.step()\n",
        "    \n",
        "    # print statistics\n",
        "    running_loss += loss.item()\n",
        "    if (i%2000 == 1999):\n",
        "      print('[%d, %5d] loss : %.3f' % (epoch+1, i+1, running_loss/2000))\n",
        "      running_loss = 0.0\n",
        "\n",
        "print(\"Finished Training\")  "
      ],
      "execution_count": 0,
      "outputs": [
        {
          "output_type": "stream",
          "text": [
            "[1,  2000] loss : 2.168\n",
            "[1,  4000] loss : 1.834\n",
            "[1,  6000] loss : 1.653\n",
            "[1,  8000] loss : 1.575\n",
            "[1, 10000] loss : 1.515\n",
            "[1, 12000] loss : 1.470\n",
            "[2,  2000] loss : 1.427\n",
            "[2,  4000] loss : 1.393\n",
            "[2,  6000] loss : 1.355\n",
            "[2,  8000] loss : 1.316\n",
            "[2, 10000] loss : 1.294\n",
            "[2, 12000] loss : 1.308\n",
            "Finished Training\n"
          ],
          "name": "stdout"
        }
      ]
    },
    {
      "cell_type": "markdown",
      "metadata": {
        "id": "nLFxdrIrEhSG",
        "colab_type": "text"
      },
      "source": [
        "### (3) 화면 출력 확인 및 학습이 되고 있는지 서술\n",
        "#### 위의 결과를 보면 두번의 epoch 를 돌면서 학습을 시켰다. 두 세대에서 모두 loss 값이 줄어드는 경황을 봤을 때, 학습이 되고 있다 할 수 있다."
      ]
    },
    {
      "cell_type": "markdown",
      "metadata": {
        "id": "T5eEOXSZE7p5",
        "colab_type": "text"
      },
      "source": [
        "## 5. 평가 데이터를 이용한 네트워크 평가\n",
        "#### 위의 학습에서 실제로 네트워크가 무엇인가를 배웠는지 대하여 테스트를 해야만 한다.\n",
        "#### 뉴럴 네트워크의 출력인 클래스 label을 예측하고 실제 데이터와 비교함으로써 테스트를 수행할 수 있는데 만약 예측 결과가 올바르다면 올바른 예측 리스트에 샘플을 추가할 수 있다.\n",
        "\n"
      ]
    },
    {
      "cell_type": "code",
      "metadata": {
        "id": "_vxP-BUHBH18",
        "colab_type": "code",
        "outputId": "e406ad54-e0c0-45c4-8405-7b7277316c61",
        "colab": {
          "base_uri": "https://localhost:8080/",
          "height": 156
        }
      },
      "source": [
        "# 5. 테스트 집합을 이용하여 신경망 성능 확인\n",
        "dataiter = iter(testloader)\n",
        "images,labels = dataiter.next()\n",
        "\n",
        "# print images\n",
        "imshow(torchvision.utils.make_grid(images))\n",
        "print('GroundTruth: ', ' '.join('%5s' % classes[labels[j]] for j in range(4)))"
      ],
      "execution_count": 0,
      "outputs": [
        {
          "output_type": "stream",
          "text": [
            "GroundTruth:    cat  ship  ship plane\n"
          ],
          "name": "stdout"
        },
        {
          "output_type": "display_data",
          "data": {
            "image/png": "[encoded data removed]",
            "text/plain": [
              "<Figure size 432x288 with 1 Axes>"
            ]
          },
          "metadata": {
            "tags": []
          }
        }
      ]
    },
    {
      "cell_type": "markdown",
      "metadata": {
        "id": "qh4QcQGRG1ej",
        "colab_type": "text"
      },
      "source": [
        "#### 학습된 네트워크로 예측하기\n",
        "#### 출력은 총 10개의 클래스\n",
        "#### 가장 높은 예측값을 가진 클래스를 선택해 출력"
      ]
    },
    {
      "cell_type": "code",
      "metadata": {
        "id": "Vj3edm3dFt4g",
        "colab_type": "code",
        "outputId": "d55b77c4-4641-4fae-88d1-d8de266e3c2c",
        "colab": {
          "base_uri": "https://localhost:8080/",
          "height": 35
        }
      },
      "source": [
        "outputs = net(images)\n",
        "_, predicted = torch.max(outputs,1)\n",
        "\n",
        "print('Predicted: ', ' '.join('%5s' % classes[predicted[j]] for j in range(4)))"
      ],
      "execution_count": 0,
      "outputs": [
        {
          "output_type": "stream",
          "text": [
            "Predicted:    cat   car  ship  ship\n"
          ],
          "name": "stdout"
        }
      ]
    },
    {
      "cell_type": "markdown",
      "metadata": {
        "id": "5snaqHX7HI5m",
        "colab_type": "text"
      },
      "source": [
        "#### 전체 데이터셋에 대한 네트워크의 학습 정확도 출력"
      ]
    },
    {
      "cell_type": "code",
      "metadata": {
        "id": "E9K-5jY2GnLP",
        "colab_type": "code",
        "outputId": "a06c78a9-90c0-4523-fdb4-dab1a4219d42",
        "colab": {
          "base_uri": "https://localhost:8080/",
          "height": 35
        }
      },
      "source": [
        "# performance on the whole test dataset\n",
        "correct = 0\n",
        "total = 0\n",
        "\n",
        "with torch.no_grad():\n",
        "  for data in testloader:\n",
        "    images, labels = data\n",
        "    outputs = net(images)\n",
        "    _, predicted = torch.max(outputs.data, 1)\n",
        "    total += labels.size(0)\n",
        "    correct += (predicted == labels).sum().item()\n",
        "\n",
        "print(\"Accuracy of the network on the 10000 test images: %d %%\" % (100*correct/total))"
      ],
      "execution_count": 0,
      "outputs": [
        {
          "output_type": "stream",
          "text": [
            "Accuracy of the network on the 10000 test images: 53 %\n"
          ],
          "name": "stdout"
        }
      ]
    },
    {
      "cell_type": "markdown",
      "metadata": {
        "id": "ywXLNK9QIDcF",
        "colab_type": "text"
      },
      "source": [
        "### (6) 화면 출력 확인 및 일반화 성능 서술\n",
        "#### 53% 의 정확도가 나온것으로 보아하니, 총 10개의 클래스 중 한개를 선택하는 10% 보다는 확률이 높다. 따라서 네트워크가 무엇인가를 배웠다고 할 수 있다. \n",
        "#### 하지만 10개의 분류로 나누는데에 있어서 모델적인 한계가 있어 일반화를 시키기에는 성능이 떨어지는 모델이라고 볼 수 있다.\n",
        "#### 의문점을 가지고 epoch 를 20으로 바꿔 학습을 시켜보았으나 정확도는 55%로 2% 정도 오르는 현상을 발견 했다."
      ]
    },
    {
      "cell_type": "code",
      "metadata": {
        "id": "Mvof8ItPHzYH",
        "colab_type": "code",
        "outputId": "04a7f7d0-8b82-4b8e-b3ee-4868462fb9cd",
        "colab": {
          "base_uri": "https://localhost:8080/",
          "height": 197
        }
      },
      "source": [
        "# performance on each class\n",
        "class_correct = list(0. for i in range(10))\n",
        "class_total = list(0. for i in range(10))\n",
        "with torch.no_grad():\n",
        "  for data in testloader:\n",
        "    images,labels = data\n",
        "    outputs = net(images)\n",
        "    _, predicted = torch.max(outputs,1)\n",
        "    c = (predicted == labels).squeeze()\n",
        "    for i in range(4):\n",
        "      label = labels[i]\n",
        "      class_correct[label] += c[i].item()\n",
        "      class_total[label] += 1\n",
        "\n",
        "for i in range(10):\n",
        "  print(\"Accuracy of %5s : %2d %%\" % (classes[i],100*class_correct[i]/class_total[i]))"
      ],
      "execution_count": 0,
      "outputs": [
        {
          "output_type": "stream",
          "text": [
            "Accuracy of plane : 56 %\n",
            "Accuracy of   car : 55 %\n",
            "Accuracy of  bird : 36 %\n",
            "Accuracy of   cat : 30 %\n",
            "Accuracy of  deer : 54 %\n",
            "Accuracy of   dog : 63 %\n",
            "Accuracy of  frog : 46 %\n",
            "Accuracy of horse : 63 %\n",
            "Accuracy of  ship : 58 %\n",
            "Accuracy of truck : 68 %\n"
          ],
          "name": "stdout"
        }
      ]
    },
    {
      "cell_type": "markdown",
      "metadata": {
        "id": "aQPGQREK4eYe",
        "colab_type": "text"
      },
      "source": [
        "## (7) 화면 출력 확인 및 부류별 분류기의 성능 서술\n",
        "##### 대체적으로 서로 비슷한 특징을 가지고 있는 bird, cat, deer의 일반화 성능이 제일 좋지 못하고, plane, ship 같은 특징이 명확한 사진 같은 경우는 일반화 성능이 괜찮게 나오는것을 확인할 수 있다."
      ]
    },
    {
      "cell_type": "markdown",
      "metadata": {
        "id": "glNSbFYl45xk",
        "colab_type": "text"
      },
      "source": [
        "# 4. 컨볼루션 층의 입력 크기가 32x32x3 이고, \n",
        "##(a) 10개 5x5 필터들을 보폭 1과 덧대기 2로 적용하였을 때, 출력의 크기와 매개 변수의 수를 구하세요. \n",
        "### -> 5x5 filter의 depth는 입력의 depth와 동일하게 설정이 된다. 따라서 10개의 5x5x3 filter 10개를 보폭 1로 적용하였을 때, 30x30 이 되는데 여기서 2로 padding 작업을 해줘서 32x32 로 유지가 된다. 그래서 출력의 크기는 32x32x10 이다. 매개변수의 수는 5x5x10 이 된다.\n",
        "\n",
        "##(b) 동일한 입력에 64개 3*3 필터들을 보폭 1과 덧대기 1로 적용하였을 때 출력의 크기와 매개변수의 수도 구하세요.\n",
        "### -> 3x3 filter를 보폭 1과 덧대기 1로 적용할 때는 출력의 사이즈는 입력의 사이즈와 동일하다. 따라서 출력의 크기는 32x32x64 이고, 매개변수의 수는 3x3x64 개가 된다."
      ]
    },
    {
      "cell_type": "markdown",
      "metadata": {
        "id": "rd97cD_b6ZdO",
        "colab_type": "text"
      },
      "source": [
        "# 5. 다음 조건을 만조가는 컨볼류션 신경망을 구현하고, 3번의 (3),(6),(7)의 성능 결과를 확인하고 비교하세요.\n",
        "### (1) INPUT-CONV(32 3X3) - CONV(32 3X3) - RELU-POOL-CONV(32 3X3) - CONV(32 3X3) - RELU - POOL - FC - OUTPUT "
      ]
    },
    {
      "cell_type": "code",
      "metadata": {
        "id": "zEERyqFz6vtV",
        "colab_type": "code",
        "outputId": "c5a862d8-7f7a-40dd-e2cf-5aa6db73990b",
        "colab": {
          "base_uri": "https://localhost:8080/",
          "height": 449
        }
      },
      "source": [
        "class Net(nn.Module):\n",
        "  def __init__(self):\n",
        "    super(Net,self).__init__()\n",
        "    # 신경망 정의\n",
        "    # input : 3 output : 32 kernel : 3x3\n",
        "    self.conv1 = nn.Conv2d(3,32,3)\n",
        "    # input : 32 output : 32 kernel : 3x3\n",
        "    self.conv2 = nn.Conv2d(32,32,3)\n",
        "    # input : 3 output : 32 kernel : 3x3\n",
        "    self.conv3 = nn.Conv2d(32,32,3)\n",
        "    # input : 3 output : 32 kernel : 3x3\n",
        "    self.conv4 = nn.Conv2d(32,32,3)\n",
        "    self.pool = nn.MaxPool2d(2,2)\n",
        "    # input : 32x5x5 output : 10\n",
        "    self.fc1 = nn.Linear(32*5*5,10)\n",
        "\n",
        "  def forward(self,x):\n",
        "    # 신경망 구성\n",
        "    x = self.conv1(x)\n",
        "    x = self.conv2(x)\n",
        "    x = self.pool(F.relu(x))\n",
        "    x = self.conv3(x)\n",
        "    x = self.conv4(x)\n",
        "    x = self.pool(F.relu(x))\n",
        "    x = x.view(-1,32*5*5)\n",
        "    x = self.fc1(x)\n",
        "    return x\n",
        "\n",
        "net = Net()\n",
        "\n",
        "criterion = nn.CrossEntropyLoss()\n",
        "optimizer = optim.SGD(net.parameters(), lr=0.001, momentum=0.9)\n",
        "\n",
        "#훈련 집합을 이용하여 신경망을 학습시킴\n",
        "for epoch in range(2): #loop over the dataset multiple times\n",
        "\n",
        "  running_loss = 0.0\n",
        "  for i, data in enumerate(trainloader, 0):\n",
        "    # get the inputs\n",
        "    inputs, labels = data\n",
        "\n",
        "    # zero the parameter gradients\n",
        "    optimizer.zero_grad()\n",
        "\n",
        "    #forward + backward + optimize\n",
        "    outputs = net(inputs)\n",
        "    loss = criterion(outputs, labels)\n",
        "    loss.backward()\n",
        "    optimizer.step()\n",
        "\n",
        "    # print statistics\n",
        "    running_loss += loss.item()\n",
        "    if i % 2000 == 1999: # print every 2000 mini-batches\n",
        "      print('[%d, %5d] loss: %.3f' %\n",
        "            (epoch + 1, i + 1, running_loss/2000))\n",
        "      running_loss = 0.0\n",
        "\n",
        "print(\"Finished Training\")\n",
        "\n",
        "correct = 0\n",
        "total = 0\n",
        "with torch.no_grad():\n",
        "  for data in testloader:\n",
        "    images, labels = data\n",
        "    outputs = net(images)\n",
        "    _, predicted = torch.max(outputs.data, 1)\n",
        "    total += labels.size(0)\n",
        "    correct += (predicted == labels).sum().item()\n",
        "\n",
        "  print('Accuracy of the network on the 10000 test images: %d %%' % (100 * correct / total))\n",
        "\n",
        "  # performance on each class\n",
        "class_correct = list(0. for i in range(10))\n",
        "class_total = list(0. for i in range(10))\n",
        "with torch.no_grad():\n",
        "  for data in testloader:\n",
        "    images, labels = data\n",
        "    outputs = net(images)\n",
        "    _, predicted = torch.max(outputs, 1)\n",
        "    c = (predicted == labels).squeeze()\n",
        "    for i in range(4):\n",
        "      label = labels[i]\n",
        "      class_correct[label] += c[i].item()\n",
        "      class_total[label] += 1\n",
        "\n",
        "for i in range(10):\n",
        "  print('Accuracy of %5s : %2d %%' % (\n",
        "      classes[i], 100 * class_correct[i] / class_total[i]))\n",
        "    \n",
        "    \n"
      ],
      "execution_count": 0,
      "outputs": [
        {
          "output_type": "stream",
          "text": [
            "[1,  2000] loss: 1.980\n",
            "[1,  4000] loss: 1.559\n",
            "[1,  6000] loss: 1.440\n",
            "[1,  8000] loss: 1.340\n",
            "[1, 10000] loss: 1.267\n",
            "[1, 12000] loss: 1.191\n",
            "[2,  2000] loss: 1.124\n",
            "[2,  4000] loss: 1.106\n",
            "[2,  6000] loss: 1.088\n",
            "[2,  8000] loss: 1.067\n",
            "[2, 10000] loss: 1.047\n",
            "[2, 12000] loss: 1.050\n",
            "Finished Training\n",
            "Accuracy of the network on the 10000 test images: 65 %\n",
            "Accuracy of plane : 74 %\n",
            "Accuracy of   car : 76 %\n",
            "Accuracy of  bird : 44 %\n",
            "Accuracy of   cat : 55 %\n",
            "Accuracy of  deer : 64 %\n",
            "Accuracy of   dog : 61 %\n",
            "Accuracy of  frog : 66 %\n",
            "Accuracy of horse : 66 %\n",
            "Accuracy of  ship : 68 %\n",
            "Accuracy of truck : 79 %\n"
          ],
          "name": "stdout"
        }
      ]
    },
    {
      "cell_type": "markdown",
      "metadata": {
        "id": "Jn1HcoldeJR3",
        "colab_type": "text"
      },
      "source": [
        "### (1-분석) 3번과 다른 신경망을 구축하여 학습을 시킨 결과 65% 의 정확도을 얻게 되었다. 이는 이전 신경망의  정확도보다 대략 8~10% 높아진 결과로 봤을때 이 분류기에 조금 더 최적화된 네트워크라고 할 수 있겠다."
      ]
    },
    {
      "cell_type": "markdown",
      "metadata": {
        "id": "rg4jq2joHVtw",
        "colab_type": "text"
      },
      "source": [
        "### (2) 3번 문제의 신경망에 Adam 최적화 ( 강의자료의 기본 hyper-parameters 사용 ) 적용"
      ]
    },
    {
      "cell_type": "code",
      "metadata": {
        "id": "7cvEbb_Y2zZ4",
        "colab_type": "code",
        "outputId": "364e1179-3675-4f87-ddf1-a4ba160bc6df",
        "colab": {
          "base_uri": "https://localhost:8080/",
          "height": 449
        }
      },
      "source": [
        "#5-2번\n",
        "#3번의 3에 해당\n",
        "import torch.nn as nn\n",
        "import torch.nn.functional as F\n",
        "\n",
        "class Net(nn.Module):\n",
        "  def __init__(self):\n",
        "    super(Net, self).__init__()\n",
        "    # input : 3 output : 6 kernel : 5x5\n",
        "    self.conv1 = nn.Conv2d(3, 6, 5) \n",
        "    self.pool = nn.MaxPool2d(2, 2)\n",
        "    # input : 6 output : 16 kernel : 5x5\n",
        "    self.conv2 = nn.Conv2d(6, 16, 5) \n",
        "    # input : 16x5x5 output : 120\n",
        "    self.fc1 = nn.Linear(16*5*5, 120)\n",
        "    # input : 120 output : 84\n",
        "    self.fc2 = nn.Linear(120, 84)\n",
        "    # input : 84 output : 10\n",
        "    self.fc3 = nn.Linear(84, 10)\n",
        "\n",
        "  def forward(self, x):\n",
        "    # Pooling\n",
        "    x = self.pool(F.relu(self.conv1(x)))\n",
        "    x = self.pool(F.relu(self.conv2(x)))\n",
        "    x = x.view(-1, 16*5*5) \n",
        "    x = F.relu(self.fc1(x))\n",
        "    x = F.relu(self.fc2(x))\n",
        "    x = self.fc3(x)\n",
        "    return x\n",
        "\n",
        "net = Net()\n",
        "\n",
        "import torch.optim as optim\n",
        "\n",
        "criterion = nn.CrossEntropyLoss()\n",
        "optimizer = optim.Adam(net.parameters(), lr=0.001)\n",
        "\n",
        "### 4. 훈련집합을 이용하여 신경망을 학습시킴\n",
        "for epoch in range(2): #loop over the dataset multiple times\n",
        "\n",
        "  running_loss = 0.0\n",
        "  for i, data in enumerate(trainloader, 0):\n",
        "    # get the inputs\n",
        "    inputs, labels = data\n",
        "\n",
        "    # zero the parameter gradients\n",
        "    optimizer.zero_grad()\n",
        "\n",
        "    #forward + backward + optimize\n",
        "    outputs = net(inputs)\n",
        "    loss = criterion(outputs, labels)\n",
        "    loss.backward()\n",
        "    optimizer.step()\n",
        "\n",
        "    # print statistics\n",
        "    running_loss += loss.item()\n",
        "    if i % 2000 == 1999: # print every 2000 mini-batches\n",
        "      print('[%d, %5d] loss: %.3f' %\n",
        "            (epoch + 1, i + 1, running_loss/2000))\n",
        "      running_loss = 0.0\n",
        "\n",
        "print(\"Finished Training\")\n",
        "\n",
        "\n",
        "correct = 0\n",
        "total = 0\n",
        "with torch.no_grad():\n",
        "  for data in testloader:\n",
        "    images, labels = data\n",
        "    outputs = net(images)\n",
        "    _, predicted = torch.max(outputs.data, 1)\n",
        "    total += labels.size(0)\n",
        "    correct += (predicted == labels).sum().item()\n",
        "\n",
        "  print('Accuracy of the network on the 10000 test images: %d %%' % (100 * correct / total))\n",
        "\n",
        "\n",
        "  # performance on each class\n",
        "class_correct = list(0. for i in range(10))\n",
        "class_total = list(0. for i in range(10))\n",
        "with torch.no_grad():\n",
        "  for data in testloader:\n",
        "    images, labels = data\n",
        "    outputs = net(images)\n",
        "    _, predicted = torch.max(outputs, 1)\n",
        "    c = (predicted == labels).squeeze()\n",
        "    for i in range(4):\n",
        "      label = labels[i]\n",
        "      class_correct[label] += c[i].item()\n",
        "      class_total[label] += 1\n",
        "\n",
        "for i in range(10):\n",
        "  print('Accuracy of %5s : %2d %%' % (\n",
        "      classes[i], 100 * class_correct[i] / class_total[i]))"
      ],
      "execution_count": 0,
      "outputs": [
        {
          "output_type": "stream",
          "text": [
            "[1,  2000] loss: 1.864\n",
            "[1,  4000] loss: 1.612\n",
            "[1,  6000] loss: 1.530\n",
            "[1,  8000] loss: 1.468\n",
            "[1, 10000] loss: 1.422\n",
            "[1, 12000] loss: 1.397\n",
            "[2,  2000] loss: 1.326\n",
            "[2,  4000] loss: 1.293\n",
            "[2,  6000] loss: 1.320\n",
            "[2,  8000] loss: 1.287\n",
            "[2, 10000] loss: 1.287\n",
            "[2, 12000] loss: 1.294\n",
            "Finished Training\n",
            "Accuracy of the network on the 10000 test images: 53 %\n",
            "Accuracy of plane : 39 %\n",
            "Accuracy of   car : 62 %\n",
            "Accuracy of  bird : 22 %\n",
            "Accuracy of   cat : 50 %\n",
            "Accuracy of  deer : 50 %\n",
            "Accuracy of   dog : 33 %\n",
            "Accuracy of  frog : 70 %\n",
            "Accuracy of horse : 58 %\n",
            "Accuracy of  ship : 79 %\n",
            "Accuracy of truck : 64 %\n"
          ],
          "name": "stdout"
        }
      ]
    },
    {
      "cell_type": "markdown",
      "metadata": {
        "id": "K63Ijlw-ef_P",
        "colab_type": "text"
      },
      "source": [
        "###(2-분석) SGD 방식에서 Adam 방식으로 최적화 방법을 바꾼 결과를 봤을때 단순 정확도만 봤을때는 거의 차의가 없는 것으로 보인다. 따라서 신경망 모델의 구조가 달라지지 않는 이상, 최적화 방법은 큰 영향을 끼치지 않는것으로 보인다."
      ]
    },
    {
      "cell_type": "markdown",
      "metadata": {
        "id": "YkYGEtaYIAFz",
        "colab_type": "text"
      },
      "source": [
        "### (3) 데이터 확대 방법들 중 하나를 적용한 후, 3번 문제의 신경망 학습 (Hint : transforms)"
      ]
    },
    {
      "cell_type": "code",
      "metadata": {
        "id": "CqLaUMxfIHVR",
        "colab_type": "code",
        "outputId": "bf7fb75c-630b-4f0e-e6b3-3e2b07597223",
        "colab": {
          "base_uri": "https://localhost:8080/",
          "height": 485
        }
      },
      "source": [
        "#5-3\n",
        "# Data transform\n",
        "transform_3 = transforms.Compose([transforms.RandomRotation(10),\n",
        "                                      transforms.ToTensor(),\n",
        "                                      transforms.Normalize((0.5, 0.5, 0.5), (0.5, 0.5, 0.5))])\n",
        "\n",
        "train_dataset_3 = torchvision.datasets.CIFAR10(root='./data', train=True, download=True, transform=transform_3)\n",
        "test_dataset_3 = torchvision.datasets.CIFAR10(root='./data', train=False, download=True, transform=transform_3)\n",
        "\n",
        "trainloader_3 = torch.utils.data.DataLoader(train_dataset_3, batch_size = 4, shuffle = True, num_workers = 2)\n",
        "testloader_3 = torch.utils.data.DataLoader(test_dataset_3, batch_size = 4, shuffle = False, num_workers = 2)\n",
        "\n",
        "net = Net()\n",
        "\n",
        "import torch.optim as optim\n",
        "\n",
        "criterion = nn.CrossEntropyLoss()\n",
        "optimizer = optim.SGD(net.parameters(), lr=0.001, momentum=0.9)\n",
        "\n",
        "\n",
        "for epoch in range(2): #loop over the dataset multiple times\n",
        "\n",
        "  running_loss = 0.0\n",
        "  for i, data in enumerate(trainloader_3, 0):\n",
        "    # get the inputs\n",
        "    inputs, labels = data\n",
        "\n",
        "    # zero the parameter gradients\n",
        "    optimizer.zero_grad()\n",
        "\n",
        "    #forward + backward + optimize\n",
        "    outputs = net(inputs)\n",
        "    loss = criterion(outputs, labels)\n",
        "    loss.backward()\n",
        "    optimizer.step()\n",
        "\n",
        "    # print statistics\n",
        "    running_loss += loss.item()\n",
        "    if i % 2000 == 1999: # print every 2000 mini-batches\n",
        "      print('[%d, %5d] loss: %.3f' %\n",
        "            (epoch + 1, i + 1, running_loss/2000))\n",
        "      running_loss = 0.0\n",
        "\n",
        "print(\"Finished Training\")\n",
        "\n",
        "\n",
        "correct = 0\n",
        "total = 0\n",
        "with torch.no_grad():\n",
        "  for data in testloader_3:\n",
        "    images, labels = data\n",
        "    outputs = net(images)\n",
        "    _, predicted = torch.max(outputs.data, 1)\n",
        "    total += labels.size(0)\n",
        "    correct += (predicted == labels).sum().item()\n",
        "\n",
        "  print('Accuracy of the network on the 10000 test images: %d %%' % (100 * correct / total))\n",
        "\n",
        "  # performance on each class\n",
        "class_correct = list(0. for i in range(10))\n",
        "class_total = list(0. for i in range(10))\n",
        "with torch.no_grad():\n",
        "  for data in testloader_3:\n",
        "    images, labels = data\n",
        "    outputs = net(images)\n",
        "    _, predicted = torch.max(outputs, 1)\n",
        "    c = (predicted == labels).squeeze()\n",
        "    for i in range(4):\n",
        "      label = labels[i]\n",
        "      class_correct[label] += c[i].item()\n",
        "      class_total[label] += 1\n",
        "\n",
        "for i in range(10):\n",
        "  print('Accuracy of %5s : %2d %%' % (\n",
        "      classes[i], 100 * class_correct[i] / class_total[i]))"
      ],
      "execution_count": 0,
      "outputs": [
        {
          "output_type": "stream",
          "text": [
            "Files already downloaded and verified\n",
            "Files already downloaded and verified\n",
            "[1,  2000] loss: 2.266\n",
            "[1,  4000] loss: 1.951\n",
            "[1,  6000] loss: 1.742\n",
            "[1,  8000] loss: 1.649\n",
            "[1, 10000] loss: 1.571\n",
            "[1, 12000] loss: 1.512\n",
            "[2,  2000] loss: 1.451\n",
            "[2,  4000] loss: 1.424\n",
            "[2,  6000] loss: 1.382\n",
            "[2,  8000] loss: 1.343\n",
            "[2, 10000] loss: 1.335\n",
            "[2, 12000] loss: 1.318\n",
            "Finished Training\n",
            "Accuracy of the network on the 10000 test images: 52 %\n",
            "Accuracy of plane : 69 %\n",
            "Accuracy of   car : 80 %\n",
            "Accuracy of  bird : 27 %\n",
            "Accuracy of   cat : 19 %\n",
            "Accuracy of  deer : 53 %\n",
            "Accuracy of   dog : 38 %\n",
            "Accuracy of  frog : 70 %\n",
            "Accuracy of horse : 54 %\n",
            "Accuracy of  ship : 58 %\n",
            "Accuracy of truck : 54 %\n"
          ],
          "name": "stdout"
        }
      ]
    },
    {
      "cell_type": "markdown",
      "metadata": {
        "id": "tLoiuMw_bKvX",
        "colab_type": "text"
      },
      "source": [
        "### (3 - 분석) 데이터 transform 을 진행한 후 학습을 하였으나 5-2 의 accuracy 와 비교 했을때 1% 정도 떨어짐을 볼 수 있었다. 제한된 모델로는 한계가 있는것으로 보인다."
      ]
    },
    {
      "cell_type": "markdown",
      "metadata": {
        "id": "ahh1c5T7IV36",
        "colab_type": "text"
      },
      "source": [
        "### (4) 3번 문제의 신경망에 CONV 층마다 배치 정규화를 적용 (HINT : nn.BatchNorm)"
      ]
    },
    {
      "cell_type": "code",
      "metadata": {
        "id": "UeZ2THmtIhnp",
        "colab_type": "code",
        "outputId": "9ad33003-5cbe-4e3c-c262-625d6aa901aa",
        "colab": {
          "base_uri": "https://localhost:8080/",
          "height": 449
        }
      },
      "source": [
        "#5-4번\n",
        "class Net_4(nn.Module):\n",
        "  def __init__(self):\n",
        "    super(Net_4, self).__init__()\n",
        "    # input : 3 output : 6 kernel : 5x5\n",
        "    self.conv1 = nn.Conv2d(3, 6, 5)\n",
        "    self.pool = nn.MaxPool2d(2, 2)\n",
        "    # input : 6 output : 16 kernel : 5x5\n",
        "    self.conv2 = nn.Conv2d(6, 16, 5)\n",
        "    # input : 16x5x5 output : 120\n",
        "    self.fc1 = nn.Linear(16*5*5, 120)\n",
        "    # input : 120 output : 84\n",
        "    self.fc2 = nn.Linear(120, 84)\n",
        "    # input 84 output : 10\n",
        "    self.fc3 = nn.Linear(84, 10)\n",
        "    \n",
        "    # BatchNorm 사용\n",
        "    self.layer1 = nn.Sequential(self.conv1,\n",
        "                                nn.BatchNorm2d(6),\n",
        "                                nn.ReLU(),\n",
        "                                self.pool)\n",
        "     # BatchNorm 사용\n",
        "    self.layer2 = nn.Sequential(self.conv2,\n",
        "                                nn.BatchNorm2d(16),\n",
        "                                nn.ReLU(),\n",
        "                                self.pool)\n",
        "  \n",
        "  def forward(self, x):\n",
        "    x = self.layer1(x)\n",
        "    x = self.layer2(x)\n",
        "    x = x.view(-1, 16 * 5 * 5)\n",
        "    x = F.relu(self.fc1(x))\n",
        "    x = F.relu(self.fc2(x))\n",
        "    x = self.fc3(x)\n",
        "    return x\n",
        "\n",
        "net_4 = Net_4()\n",
        "\n",
        "import torch.optim as optim\n",
        "\n",
        "criterion = nn.CrossEntropyLoss()\n",
        "optimizer = optim.SGD(net_4.parameters(), lr=0.001, momentum=0.9)\n",
        "\n",
        "for epoch in range(2): #loop over the dataset multiple times\n",
        "\n",
        "  running_loss = 0.0\n",
        "  for i, data in enumerate(trainloader, 0):\n",
        "    # get the inputs\n",
        "    inputs, labels = data\n",
        "\n",
        "    # zero the parameter gradients\n",
        "    optimizer.zero_grad()\n",
        "\n",
        "    #forward + backward + optimize\n",
        "    outputs = net_4(inputs)\n",
        "    loss = criterion(outputs, labels)\n",
        "    loss.backward()\n",
        "    optimizer.step()\n",
        "\n",
        "    # print statistics\n",
        "    running_loss += loss.item()\n",
        "    if i % 2000 == 1999: # print every 2000 mini-batches\n",
        "      print('[%d, %5d] loss: %.3f' %\n",
        "            (epoch + 1, i + 1, running_loss/2000))\n",
        "      running_loss = 0.0\n",
        "\n",
        "print(\"Finished Training\")\n",
        "\n",
        "\n",
        "correct = 0\n",
        "total = 0\n",
        "with torch.no_grad():\n",
        "  for data in testloader:\n",
        "    images, labels = data\n",
        "    outputs = net_4(images)\n",
        "    _, predicted = torch.max(outputs.data, 1)\n",
        "    total += labels.size(0)\n",
        "    correct += (predicted == labels).sum().item()\n",
        "\n",
        "  print('Accuracy of the network on the 10000 test images: %d %%' % (100 * correct / total))\n",
        "\n",
        "\n",
        "  # performance on each class\n",
        "class_correct = list(0. for i in range(10))\n",
        "class_total = list(0. for i in range(10))\n",
        "with torch.no_grad():\n",
        "  for data in testloader:\n",
        "    images, labels = data\n",
        "    outputs = net_4(images)\n",
        "    _, predicted = torch.max(outputs, 1)\n",
        "    c = (predicted == labels).squeeze()\n",
        "    for i in range(4):\n",
        "      label = labels[i]\n",
        "      class_correct[label] += c[i].item()\n",
        "      class_total[label] += 1\n",
        "\n",
        "for i in range(10):\n",
        "  print('Accuracy of %5s : %2d %%' % (\n",
        "      classes[i], 100 * class_correct[i] / class_total[i]))"
      ],
      "execution_count": 0,
      "outputs": [
        {
          "output_type": "stream",
          "text": [
            "[1,  2000] loss: 1.975\n",
            "[1,  4000] loss: 1.708\n",
            "[1,  6000] loss: 1.588\n",
            "[1,  8000] loss: 1.537\n",
            "[1, 10000] loss: 1.504\n",
            "[1, 12000] loss: 1.455\n",
            "[2,  2000] loss: 1.386\n",
            "[2,  4000] loss: 1.378\n",
            "[2,  6000] loss: 1.354\n",
            "[2,  8000] loss: 1.349\n",
            "[2, 10000] loss: 1.302\n",
            "[2, 12000] loss: 1.291\n",
            "Finished Training\n",
            "Accuracy of the network on the 10000 test images: 54 %\n",
            "Accuracy of plane : 60 %\n",
            "Accuracy of   car : 75 %\n",
            "Accuracy of  bird : 34 %\n",
            "Accuracy of   cat : 18 %\n",
            "Accuracy of  deer : 50 %\n",
            "Accuracy of   dog : 60 %\n",
            "Accuracy of  frog : 67 %\n",
            "Accuracy of horse : 60 %\n",
            "Accuracy of  ship : 68 %\n",
            "Accuracy of truck : 48 %\n"
          ],
          "name": "stdout"
        }
      ]
    },
    {
      "cell_type": "markdown",
      "metadata": {
        "id": "IH4u9kjZezXF",
        "colab_type": "text"
      },
      "source": [
        "### (4-분석) 각 convolution 층 마다 batchnormalize 를 해줬으나 정확도에서는 크게 변동된 부분이 없다. 살짝 좋아진 부분은 있으나 큰 변동은 없는 것으로 보아 다른 규제 기법을 좀 더 찾아보는게 좋을듯 하다.\n",
        "### 학습을 새로 돌릴때마다 정확도가 좋아질때가 있고, 나빠질때도 있다. "
      ]
    },
    {
      "cell_type": "markdown",
      "metadata": {
        "id": "jfYjV7TiIh77",
        "colab_type": "text"
      },
      "source": [
        "### (5) 3번 문제의 신경망에 로그우도 손실함수를 적용"
      ]
    },
    {
      "cell_type": "code",
      "metadata": {
        "id": "BwNbHjkZIlo9",
        "colab_type": "code",
        "outputId": "c6513f00-48ec-409d-9f5c-0aba5b9c4b44",
        "colab": {
          "base_uri": "https://localhost:8080/",
          "height": 449
        }
      },
      "source": [
        "#5-5번\n",
        "\n",
        "net = Net()\n",
        "\n",
        "import torch.optim as optim\n",
        "\n",
        "# log 우도 손실함수 적용\n",
        "criterion = nn.NLLLoss()\n",
        "optimizer = optim.SGD(net.parameters(), lr=0.001, momentum=0.9)\n",
        "\n",
        "\n",
        "for epoch in range(2): #loop over the dataset multiple times\n",
        "\n",
        "  running_loss = 0.0\n",
        "  for i, data in enumerate(trainloader, 0):\n",
        "    # get the inputs\n",
        "    inputs, labels = data\n",
        "\n",
        "    # zero the parameter gradients\n",
        "    optimizer.zero_grad()\n",
        "\n",
        "    #forward + backward + optimize\n",
        "    outputs = net(inputs)\n",
        "    outputs = nn.LogSoftmax(dim=1)(outputs) \n",
        "    loss = criterion(outputs, labels)\n",
        "    loss.backward()\n",
        "    optimizer.step()\n",
        "\n",
        "    # print statistics\n",
        "    running_loss += loss.item()\n",
        "    if i % 2000 == 1999: # print every 2000 mini-batches\n",
        "      print('[%d, %5d] loss: %.3f' %\n",
        "            (epoch + 1, i + 1, running_loss/2000))\n",
        "      running_loss = 0.0\n",
        "\n",
        "print(\"Finished Training\")\n",
        "\n",
        "correct = 0\n",
        "total = 0\n",
        "with torch.no_grad():\n",
        "  for data in testloader:\n",
        "    images, labels = data\n",
        "    outputs = net(images)\n",
        "    _, predicted = torch.max(outputs.data, 1)\n",
        "    total += labels.size(0)\n",
        "    correct += (predicted == labels).sum().item()\n",
        "\n",
        "  print('Accuracy of the network on the 10000 test images: %d %%' % (100 * correct / total))\n",
        "\n",
        "  # performance on each class\n",
        "class_correct = list(0. for i in range(10))\n",
        "class_total = list(0. for i in range(10))\n",
        "with torch.no_grad():\n",
        "  for data in testloader:\n",
        "    images, labels = data\n",
        "    outputs = net(images)\n",
        "    _, predicted = torch.max(outputs, 1)\n",
        "    c = (predicted == labels).squeeze()\n",
        "    for i in range(4):\n",
        "      label = labels[i]\n",
        "      class_correct[label] += c[i].item()\n",
        "      class_total[label] += 1\n",
        "\n",
        "for i in range(10):\n",
        "  print('Accuracy of %5s : %2d %%' % (\n",
        "      classes[i], 100 * class_correct[i] / class_total[i]))"
      ],
      "execution_count": 0,
      "outputs": [
        {
          "output_type": "stream",
          "text": [
            "[1,  2000] loss: 2.179\n",
            "[1,  4000] loss: 1.853\n",
            "[1,  6000] loss: 1.680\n",
            "[1,  8000] loss: 1.606\n",
            "[1, 10000] loss: 1.516\n",
            "[1, 12000] loss: 1.449\n",
            "[2,  2000] loss: 1.417\n",
            "[2,  4000] loss: 1.366\n",
            "[2,  6000] loss: 1.347\n",
            "[2,  8000] loss: 1.343\n",
            "[2, 10000] loss: 1.313\n",
            "[2, 12000] loss: 1.289\n",
            "Finished Training\n",
            "Accuracy of the network on the 10000 test images: 53 %\n",
            "Accuracy of plane : 58 %\n",
            "Accuracy of   car : 61 %\n",
            "Accuracy of  bird : 25 %\n",
            "Accuracy of   cat : 17 %\n",
            "Accuracy of  deer : 35 %\n",
            "Accuracy of   dog : 64 %\n",
            "Accuracy of  frog : 76 %\n",
            "Accuracy of horse : 59 %\n",
            "Accuracy of  ship : 61 %\n",
            "Accuracy of truck : 76 %\n"
          ],
          "name": "stdout"
        }
      ]
    },
    {
      "cell_type": "markdown",
      "metadata": {
        "id": "WjDsBnZYfP5Q",
        "colab_type": "text"
      },
      "source": [
        "### (5 - 분석) 로그 우도 손실함수를 사용 함으로써 underfitting 을 줄일 수 있으나 정확도 면에서는 생각보다 많은 부분이 변동되지 않았다."
      ]
    },
    {
      "cell_type": "markdown",
      "metadata": {
        "id": "1YPe8Ft7ImXa",
        "colab_type": "text"
      },
      "source": [
        "###(6) 3번 문제의 신경망에 L2놈 규제 적용"
      ]
    },
    {
      "cell_type": "code",
      "metadata": {
        "id": "s6xD3kj3IpMD",
        "colab_type": "code",
        "outputId": "44e17e4d-45ee-4b8d-ee3c-1e16a70874e5",
        "colab": {
          "base_uri": "https://localhost:8080/",
          "height": 449
        }
      },
      "source": [
        "#5-6번\n",
        "import torch.nn as nn\n",
        "import torch.nn.functional as F\n",
        "\n",
        "class Net_6(nn.Module):\n",
        "  def __init__(self):\n",
        "    super(Net_6, self).__init__()\n",
        "    self.conv1 = nn.Conv2d(3, 6, 5)\n",
        "    self.conv2 = nn.Conv2d(6, 16, 5)\n",
        "    self.pool = nn.MaxPool2d(2, 2)\n",
        "    self.fc1 = nn.Linear(16*5*5, 120)\n",
        "    self.fc2 = nn.Linear(120, 84)\n",
        "    self.fc3 = nn.Linear(84, 10)\n",
        "  \n",
        "  def forward(self, x):\n",
        "    x = self.pool(F.relu(F.normalize(self.conv1(x), p = 2, eps=1e-12)))\n",
        "    x = self.pool(F.relu(F.normalize(self.conv2(x), p = 2, eps=1e-12)))\n",
        "    x = x.view(-1, 16 * 5 * 5)\n",
        "    x = F.relu(self.fc1(x))\n",
        "    x = F.relu(self.fc2(x))\n",
        "    x = self.fc3(x)\n",
        "    return x\n",
        "    \n",
        "\n",
        "net_6 = Net_6()\n",
        "\n",
        "import torch.optim as optim\n",
        "\n",
        "criterion = nn.CrossEntropyLoss()\n",
        "# weight decay = 0.01 를 써서 L2 Norm 적용\n",
        "optimizer = optim.SGD(net_6.parameters(), lr=0.001, momentum=0.9, weight_decay = 0.01)\n",
        "\n",
        "for epoch in range(2): #loop over the dataset multiple times\n",
        "\n",
        "  running_loss = 0.0\n",
        "  for i, data in enumerate(trainloader, 0):\n",
        "    # get the inputs\n",
        "    inputs, labels = data\n",
        "\n",
        "    # zero the parameter gradients\n",
        "    optimizer.zero_grad()\n",
        "\n",
        "    #forward + backward + optimize\n",
        "    outputs = net_6(inputs)\n",
        "    loss = criterion(outputs, labels)\n",
        "    loss.backward()\n",
        "    optimizer.step()\n",
        "\n",
        "    # print statistics\n",
        "    running_loss += loss.item()\n",
        "    if i % 2000 == 1999: # print every 2000 mini-batches\n",
        "      print('[%d, %5d] loss: %.3f' %\n",
        "            (epoch + 1, i + 1, running_loss/2000))\n",
        "      running_loss = 0.0\n",
        "\n",
        "print(\"Finished Training\")\n",
        "\n",
        "\n",
        "correct = 0\n",
        "total = 0\n",
        "with torch.no_grad():\n",
        "  for data in testloader:\n",
        "    images, labels = data\n",
        "    outputs = net_6(images)\n",
        "    _, predicted = torch.max(outputs.data, 1)\n",
        "    total += labels.size(0)\n",
        "    correct += (predicted == labels).sum().item()\n",
        "\n",
        "  print('Accuracy of the network on the 10000 test images: %d %%' % (100 * correct / total))\n",
        "\n",
        "\n",
        "  # performance on each class\n",
        "class_correct = list(0. for i in range(10))\n",
        "class_total = list(0. for i in range(10))\n",
        "with torch.no_grad():\n",
        "  for data in testloader:\n",
        "    images, labels = data\n",
        "    outputs = net_6(images)\n",
        "    _, predicted = torch.max(outputs, 1)\n",
        "    c = (predicted == labels).squeeze()\n",
        "    for i in range(4):\n",
        "      label = labels[i]\n",
        "      class_correct[label] += c[i].item()\n",
        "      class_total[label] += 1\n",
        "\n",
        "for i in range(10):\n",
        "  print('Accuracy of %5s : %2d %%' % (\n",
        "      classes[i], 100 * class_correct[i] / class_total[i]))"
      ],
      "execution_count": 0,
      "outputs": [
        {
          "output_type": "stream",
          "text": [
            "[1,  2000] loss: 2.158\n",
            "[1,  4000] loss: 1.911\n",
            "[1,  6000] loss: 1.803\n",
            "[1,  8000] loss: 1.721\n",
            "[1, 10000] loss: 1.668\n",
            "[1, 12000] loss: 1.598\n",
            "[2,  2000] loss: 1.572\n",
            "[2,  4000] loss: 1.554\n",
            "[2,  6000] loss: 1.549\n",
            "[2,  8000] loss: 1.516\n",
            "[2, 10000] loss: 1.501\n",
            "[2, 12000] loss: 1.488\n",
            "Finished Training\n",
            "Accuracy of the network on the 10000 test images: 41 %\n",
            "Accuracy of plane : 55 %\n",
            "Accuracy of   car :  5 %\n",
            "Accuracy of  bird : 18 %\n",
            "Accuracy of   cat : 34 %\n",
            "Accuracy of  deer : 27 %\n",
            "Accuracy of   dog : 47 %\n",
            "Accuracy of  frog : 35 %\n",
            "Accuracy of horse : 75 %\n",
            "Accuracy of  ship : 34 %\n",
            "Accuracy of truck : 79 %\n"
          ],
          "name": "stdout"
        }
      ]
    },
    {
      "cell_type": "markdown",
      "metadata": {
        "id": "xXstTLsDfsOn",
        "colab_type": "text"
      },
      "source": [
        "###(6-분석) L2 norm 가중치 규제를 통하여 모델을 좀 더 general 하게 만들어줬지만, 정확도가 41% 까지 떨어지는 현상을 발견했다. 따라서 규제를 잘 이해하지 못하고 사용하는 경우 정확도에서 큰 손실을 볼 수 있을것 같다."
      ]
    },
    {
      "cell_type": "markdown",
      "metadata": {
        "id": "DuAFWJ-fIqvV",
        "colab_type": "text"
      },
      "source": [
        "# 5. 신경망의 출력이 (0.4, 2.0, 0.001, 0.32)T 일때 소프트맥스 함수를 적용한 결과를 쓰시오."
      ]
    },
    {
      "cell_type": "code",
      "metadata": {
        "id": "mN4jQMo3Iyp-",
        "colab_type": "code",
        "outputId": "6969ee0c-9989-456a-d8f9-a5bd72912a18",
        "colab": {
          "base_uri": "https://localhost:8080/",
          "height": 91
        }
      },
      "source": [
        "import torch\n",
        "\n",
        "x = torch.Tensor([0.4,2.0,0.001,0.32])\n",
        "x = torch.t(x)\n",
        "\n",
        "m = torch.nn.Softmax()\n",
        "x = m(x)\n",
        "\n",
        "print(\"result : \", x)"
      ],
      "execution_count": 0,
      "outputs": [
        {
          "output_type": "stream",
          "text": [
            "result :  tensor([0.1325, 0.6563, 0.0889, 0.1223])\n"
          ],
          "name": "stdout"
        },
        {
          "output_type": "stream",
          "text": [
            "/usr/local/lib/python3.6/dist-packages/ipykernel_launcher.py:7: UserWarning: Implicit dimension choice for softmax has been deprecated. Change the call to include dim=X as an argument.\n",
            "  import sys\n"
          ],
          "name": "stderr"
        }
      ]
    },
    {
      "cell_type": "markdown",
      "metadata": {
        "id": "UzGIXuPAIzaO",
        "colab_type": "text"
      },
      "source": [
        "# 6. 소프트맥스 함수를 적용한 후 출력이 (0.001,0.9, 0.001, 0.098)T이고 레이블 정보가 (0,0,0,1)T 일 때, 세 가지 목적함수, 평균 제곱 오차, 교차 엔트로피, 로그우도를 계산하시오."
      ]
    },
    {
      "cell_type": "code",
      "metadata": {
        "id": "0jbf8WU0I_su",
        "colab_type": "code",
        "outputId": "5d980ed8-6b83-48e8-dad2-ce92f2491aac",
        "colab": {
          "base_uri": "https://localhost:8080/",
          "height": 71
        }
      },
      "source": [
        "output = torch.tensor([0.001, 0.9, 0.001, 0.098])\n",
        "label = torch.tensor([0,0,0,1.0])\n",
        "\n",
        "# 평균 제곱 오차\n",
        "mse = nn.MSELoss()\n",
        "mse_loss = mse(output,label)\n",
        "print(\"Result of MSE : \", mse_loss)\n",
        "\n",
        "# 교차 엔트로피\n",
        "cross_entropy_loss = -1*(label*(output.log2())).sum()\n",
        "print(\"Result of Cross Entropy Loss : \", cross_entropy_loss)\n",
        "\n",
        "# 로그우도\n",
        "log_likelihood_loss = (label*output).sum().log2()*-1\n",
        "print(\"Result of Log Likeli Hood Loss : \", log_likelihood_loss)"
      ],
      "execution_count": 0,
      "outputs": [
        {
          "output_type": "stream",
          "text": [
            "Result of MSE :  tensor(0.4059)\n",
            "Result of Cross Entropy Loss :  tensor(3.3511)\n",
            "Result of Log Likeli Hood Loss :  tensor(3.3511)\n"
          ],
          "name": "stdout"
        }
      ]
    },
    {
      "cell_type": "code",
      "metadata": {
        "id": "y44FyeAYKXWl",
        "colab_type": "code",
        "colab": {}
      },
      "source": [
        ""
      ],
      "execution_count": 0,
      "outputs": []
    }
  ]
}